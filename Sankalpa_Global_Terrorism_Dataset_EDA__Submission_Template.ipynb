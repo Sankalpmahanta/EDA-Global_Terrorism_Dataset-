{
  "nbformat": 4,
  "nbformat_minor": 0,
  "metadata": {
    "colab": {
      "provenance": [],
      "collapsed_sections": [
        "vncDsAP0Gaoa",
        "FJNUwmbgGyua",
        "w6K7xa23Elo4",
        "yQaldy8SH6Dl",
        "PH-0ReGfmX4f",
        "mDgbUHAGgjLW",
        "O_i_v8NEhb9l",
        "HhfV-JJviCcP",
        "Y3lxredqlCYt",
        "3RnN4peoiCZX",
        "x71ZqKXriCWQ",
        "7hBIi_osiCS2",
        "JlHwYmJAmNHm",
        "35m5QtbWiB9F",
        "PoPl-ycgm1ru",
        "H0kj-8xxnORC",
        "nA9Y7ga8ng1Z",
        "PBTbrJXOngz2",
        "u3PMJOP6ngxN",
        "dauF4eBmngu3",
        "bKJF3rekwFvQ",
        "MSa1f5Uengrz",
        "GF8Ens_Soomf",
        "0wOQAZs5pc--",
        "K5QZ13OEpz2H",
        "lQ7QKXXCp7Bj",
        "448CDAPjqfQr",
        "KSlN3yHqYklG",
        "t6dVpIINYklI",
        "ijmpgYnKYklI",
        "-JiQyfWJYklI",
        "EM7whBJCYoAo",
        "fge-S5ZAYoAp",
        "85gYPyotYoAp",
        "RoGjAbkUYoAp",
        "4Of9eVA-YrdM",
        "iky9q4vBYrdO",
        "F6T5p64dYrdO",
        "y-Ehk30pYrdP",
        "bamQiAODYuh1",
        "QHF8YVU7Yuh3",
        "GwzvFGzlYuh3",
        "qYpmQ266Yuh3",
        "OH-pJp9IphqM",
        "bbFf2-_FphqN",
        "_ouA3fa0phqN",
        "Seke61FWphqN",
        "PIIx-8_IphqN",
        "t27r6nlMphqO",
        "r2jJGEOYphqO",
        "b0JNsNcRphqO",
        "BZR9WyysphqO",
        "jj7wYXLtphqO",
        "eZrbJ2SmphqO",
        "rFu4xreNphqO",
        "YJ55k-q6phqO",
        "gCFgpxoyphqP",
        "OVtJsKN_phqQ",
        "lssrdh5qphqQ",
        "U2RJ9gkRphqQ",
        "1M8mcRywphqQ",
        "tgIPom80phqQ",
        "JMzcOPDDphqR",
        "x-EpHcCOp1ci",
        "X_VqEhTip1ck",
        "8zGJKyg5p1ck",
        "PVzmfK_Ep1ck",
        "n3dbpmDWp1ck",
        "ylSl6qgtp1ck",
        "ZWILFDl5p1ck",
        "M7G43BXep1ck",
        "Ag9LCva-p1cl",
        "E6MkPsBcp1cl",
        "2cELzS2fp1cl",
        "3MPXvC8up1cl",
        "NC_X3p0fY2L0",
        "UV0SzAkaZNRQ",
        "YPEH6qLeZNRQ",
        "q29F0dvdveiT",
        "EXh0U9oCveiU",
        "22aHeOlLveiV",
        "JcMwzZxoAimU",
        "8G2x9gOozGDZ",
        "gCX9965dhzqZ",
        "gIfDvo9L0UH2"
      ],
      "include_colab_link": true
    },
    "kernelspec": {
      "name": "python3",
      "display_name": "Python 3"
    },
    "language_info": {
      "name": "python"
    }
  },
  "cells": [
    {
      "cell_type": "markdown",
      "metadata": {
        "id": "view-in-github",
        "colab_type": "text"
      },
      "source": [
        "<a href=\"https://colab.research.google.com/github/Sankalpmahanta/EDA-Global_Terrorism_Dataset-/blob/main/Sankalpa_Global_Terrorism_Dataset_EDA__Submission_Template.ipynb\" target=\"_parent\"><img src=\"https://colab.research.google.com/assets/colab-badge.svg\" alt=\"Open In Colab\"/></a>"
      ]
    },
    {
      "cell_type": "markdown",
      "source": [
        "# **Project Name**    -\n",
        "\n"
      ],
      "metadata": {
        "id": "vncDsAP0Gaoa"
      }
    },
    {
      "cell_type": "markdown",
      "source": [
        "##### **Project Type**    - EDA(Global Terrorism Dataset)\n",
        "##### **Contribution**    - Individual\n",
        "##### **Author -** Sankalpa Mahanta"
      ],
      "metadata": {
        "id": "beRrZCGUAJYm"
      }
    },
    {
      "cell_type": "markdown",
      "source": [
        "# **Project Summary -**"
      ],
      "metadata": {
        "id": "FJNUwmbgGyua"
      }
    },
    {
      "cell_type": "markdown",
      "source": [
        "The objective of this project is to conduct an exploratory data analysis (EDA) of the Global Terrorism Database (GTD), an open-source dataset that contains comprehensive information on both domestic and international terrorist attacks occurring globally from 1970 to 2017. Developed and maintained by the National Consortium for the Study of Terrorism and Responses to Terrorism (START) at the University of Maryland, the database encompasses details of over 180,000 recorded terrorist incidents. The project's principal aim is to dig deep into this expansive dataset, identify significant trends, patterns, and insights pertaining to terrorism-related activities, and present these discoveries visually for an enhanced understanding.\n",
        "\n",
        "A critical aspect of this project is the extensive use of Python libraries tailored for data analysis and visualization. The cornerstone of data manipulation, including loading the dataset, cleaning data, and executing sophisticated aggregation operations, will be the Pandas library. This powerful, high-performance tool offers efficient data structures and makes the handling of large datasets effortless.\n",
        "\n",
        "To facilitate advanced numerical operations and speed up computation, the project employs the NumPy library. Given its proficiency in handling multi-dimensional arrays and matrices, NumPy is the perfect companion for data processing operations.\n",
        "\n",
        "The project doesn't stop at numerical data analysis; it brings the extracted insights to life through vivid, informative visualizations, courtesy of the Matplotlib and Seaborn libraries. These libraries provide an array of visualization styles, enabling the display of data in ways that are both appealing and informative. From bar plots and scatter plots to histograms and heatmaps, the project will utilize a minimum of five different visualizations to reveal relationships between variables and provide a graphical representation of the dataset's characteristics.\n",
        "\n",
        "Exploring the GTD through this project will pave the way for an intricate understanding of terrorism patterns over the past decades. The goal is to unveil potential trends in attack frequency, most targeted countries, preferred methods of attack, types of weapons used, casualties, and the evolution of terrorist organizations, among other relevant dimensions.\n",
        "\n",
        "By examining these factors, the project aims to provide a detailed overview of global terrorism trends, informing counter-terrorism strategies and policies. Additionally, the findings may also help understand the characteristics of regions prone to attacks and the reasons behind their vulnerability.\n",
        "\n",
        "In conclusion, this project offers a data-driven exploration into the dark world of terrorism, aiming to shed light on the complex patterns hidden within the enormity of the GTD. The end product of this project will be an array of valuable insights that have the potential to contribute substantially to ongoing counter-terrorism efforts and inform future research in this field. The combination of data manipulation, numerical computation, and graphic visualization is expected to yield a robust and comprehensive exploration of the dataset, leading to substantial key findings pertaining to global terrorism."
      ],
      "metadata": {
        "id": "F6v_1wHtG2nS"
      }
    },
    {
      "cell_type": "markdown",
      "source": [
        "# **GitHub Link -**"
      ],
      "metadata": {
        "id": "w6K7xa23Elo4"
      }
    },
    {
      "cell_type": "markdown",
      "source": [
        "https://github.com/Sankalpmahanta/EDA-Global_Terrorism_Dataset-.git"
      ],
      "metadata": {
        "id": "h1o69JH3Eqqn"
      }
    },
    {
      "cell_type": "markdown",
      "source": [
        "# **Problem Statement**\n"
      ],
      "metadata": {
        "id": "yQaldy8SH6Dl"
      }
    },
    {
      "cell_type": "markdown",
      "source": [
        "By employing exploratory data analysis (EDA) methods on the Global Terrorism Database (GTD), the goal is to pinpoint global hotspots of terrorism and understand the changing trends in terrorist activities. Through this analysis, we aim to extract insights pertinent to security concerns, which could play a crucial role in formulating effective counter-terrorism strategies."
      ],
      "metadata": {
        "id": "DpeJGUA3kjGy"
      }
    },
    {
      "cell_type": "markdown",
      "source": [
        "#### **Define Your Business Objective?**"
      ],
      "metadata": {
        "id": "PH-0ReGfmX4f"
      }
    },
    {
      "cell_type": "markdown",
      "source": [
        "The business objective of this project is to leverage the data contained within the Global Terrorism Database (GTD) to derive actionable insights into terrorist activities worldwide from 1970 to 2017. By conducting a comprehensive exploratory data analysis (EDA), the goal is to identify the key patterns, trends, and correlations related to global terrorism, thereby enabling better-informed decision-making for security analysts, policy-makers, and counter-terrorism agencies.\n",
        "\n",
        "Specifically, the objectives include:\n",
        "\n",
        "*   Identification of global \"hot zones\" for terrorist activities: By determining the most affected regions, we can better understand where resources might be best allocated to prevent future attacks.\n",
        "*   Analysis of frequency and intensity of attacks: Understanding how these have evolved over time can provide insights into the changing dynamics of terrorism and allow for more accurate risk assessments.\n",
        "\n",
        "*   Examination of methodologies and weapons used in attacks: This can shed light on the operational preferences of terrorist organizations and potentially provide early indicators of future threats.\n",
        "*   Assessment of casualty trends: This can help identify the most devastating types of attacks and allow for targeted response planning to minimize human loss.\n",
        "\n",
        "*   Unveiling patterns related to terrorist organizations: This can potentially aid in understanding their strategies, thereby supporting intelligence agencies in their counter-terrorism efforts."
      ],
      "metadata": {
        "id": "PhDvGCAqmjP1"
      }
    },
    {
      "cell_type": "markdown",
      "source": [
        "# **General Guidelines** : -  "
      ],
      "metadata": {
        "id": "mDgbUHAGgjLW"
      }
    },
    {
      "cell_type": "markdown",
      "source": [
        "1.   Well-structured, formatted, and commented code is required.\n",
        "2.   Exception Handling, Production Grade Code & Deployment Ready Code will be a plus. Those students will be awarded some additional credits.\n",
        "     \n",
        "     The additional credits will have advantages over other students during Star Student selection.\n",
        "       \n",
        "             [ Note: - Deployment Ready Code is defined as, the whole .ipynb notebook should be executable in one go\n",
        "                       without a single error logged. ]\n",
        "\n",
        "3.   Each and every logic should have proper comments.\n",
        "4. You may add as many number of charts you want. Make Sure for each and every chart the following format should be answered.\n",
        "        \n",
        "\n",
        "```\n",
        "# Chart visualization code\n",
        "```\n",
        "            \n",
        "\n",
        "*   Why did you pick the specific chart?\n",
        "*   What is/are the insight(s) found from the chart?\n",
        "* Will the gained insights help creating a positive business impact?\n",
        "Are there any insights that lead to negative growth? Justify with specific reason.\n",
        "\n",
        "5. You have to create at least 20 logical & meaningful charts having important insights.\n",
        "\n",
        "\n",
        "[ Hints : - Do the Vizualization in  a structured way while following \"UBM\" Rule.\n",
        "\n",
        "U - Univariate Analysis,\n",
        "\n",
        "B - Bivariate Analysis (Numerical - Categorical, Numerical - Numerical, Categorical - Categorical)\n",
        "\n",
        "M - Multivariate Analysis\n",
        " ]\n",
        "\n",
        "\n",
        "\n"
      ],
      "metadata": {
        "id": "ZrxVaUj-hHfC"
      }
    },
    {
      "cell_type": "markdown",
      "source": [
        "# ***Let's Begin !***"
      ],
      "metadata": {
        "id": "O_i_v8NEhb9l"
      }
    },
    {
      "cell_type": "markdown",
      "source": [
        "## ***1. Know Your Data***"
      ],
      "metadata": {
        "id": "HhfV-JJviCcP"
      }
    },
    {
      "cell_type": "markdown",
      "source": [
        "### Import Libraries"
      ],
      "metadata": {
        "id": "Y3lxredqlCYt"
      }
    },
    {
      "cell_type": "code",
      "source": [
        "# Import Libraries\n",
        "import numpy as np\n",
        "import pandas as pd\n",
        "import matplotlib.pyplot as plt\n",
        "import seaborn as sns\n",
        "import plotly.express as px\n",
        "import warnings\n",
        "warnings.filterwarnings('ignore')"
      ],
      "metadata": {
        "id": "M8Vqi-pPk-HR"
      },
      "execution_count": 1,
      "outputs": []
    },
    {
      "cell_type": "markdown",
      "source": [
        "### Dataset Loading"
      ],
      "metadata": {
        "id": "3RnN4peoiCZX"
      }
    },
    {
      "cell_type": "code",
      "source": [
        "from google.colab import drive\n",
        "drive.mount('/content/drive')"
      ],
      "metadata": {
        "id": "ch6B_CS13eO7",
        "colab": {
          "base_uri": "https://localhost:8080/"
        },
        "outputId": "a68163c2-2da6-4a86-a6fc-4405c8988d3d"
      },
      "execution_count": 2,
      "outputs": [
        {
          "output_type": "stream",
          "name": "stdout",
          "text": [
            "Mounted at /content/drive\n"
          ]
        }
      ]
    },
    {
      "cell_type": "code",
      "source": [
        "# Load Dataset\n",
        "df = pd.read_csv('/content/drive/MyDrive/Module 2 project EDA/Global Terrorism Data.csv', encoding=\"latin1\")"
      ],
      "metadata": {
        "id": "4CkvbW_SlZ_R"
      },
      "execution_count": 3,
      "outputs": []
    },
    {
      "cell_type": "markdown",
      "source": [
        "### Dataset First View"
      ],
      "metadata": {
        "id": "x71ZqKXriCWQ"
      }
    },
    {
      "cell_type": "code",
      "source": [
        "# Dataset First Look\n",
        "df"
      ],
      "metadata": {
        "id": "LWNFOSvLl09H",
        "colab": {
          "base_uri": "https://localhost:8080/",
          "height": 878
        },
        "outputId": "6eadfb57-14fb-4c0d-bf32-bc75c986102b"
      },
      "execution_count": 4,
      "outputs": [
        {
          "output_type": "execute_result",
          "data": {
            "text/plain": [
              "             eventid  iyear  imonth  iday approxdate  extended resolution  \\\n",
              "0       197000000001   1970       7     2        NaN         0        NaN   \n",
              "1       197000000002   1970       0     0        NaN         0        NaN   \n",
              "2       197001000001   1970       1     0        NaN         0        NaN   \n",
              "3       197001000002   1970       1     0        NaN         0        NaN   \n",
              "4       197001000003   1970       1     0        NaN         0        NaN   \n",
              "...              ...    ...     ...   ...        ...       ...        ...   \n",
              "181686  201712310022   2017      12    31        NaN         0        NaN   \n",
              "181687  201712310029   2017      12    31        NaN         0        NaN   \n",
              "181688  201712310030   2017      12    31        NaN         0        NaN   \n",
              "181689  201712310031   2017      12    31        NaN         0        NaN   \n",
              "181690  201712310032   2017      12    31        NaN         0        NaN   \n",
              "\n",
              "        country         country_txt  region  ... addnotes  \\\n",
              "0            58  Dominican Republic       2  ...      NaN   \n",
              "1           130              Mexico       1  ...      NaN   \n",
              "2           160         Philippines       5  ...      NaN   \n",
              "3            78              Greece       8  ...      NaN   \n",
              "4           101               Japan       4  ...      NaN   \n",
              "...         ...                 ...     ...  ...      ...   \n",
              "181686      182             Somalia      11  ...      NaN   \n",
              "181687      200               Syria      10  ...      NaN   \n",
              "181688      160         Philippines       5  ...      NaN   \n",
              "181689       92               India       6  ...      NaN   \n",
              "181690      160         Philippines       5  ...      NaN   \n",
              "\n",
              "                                                   scite1  \\\n",
              "0                                                     NaN   \n",
              "1                                                     NaN   \n",
              "2                                                     NaN   \n",
              "3                                                     NaN   \n",
              "4                                                     NaN   \n",
              "...                                                   ...   \n",
              "181686  \"Somalia: Al-Shabaab Militants Attack Army Che...   \n",
              "181687  \"Putin's 'victory' in Syria has turned into a ...   \n",
              "181688  \"Maguindanao clashes trap tribe members,\" Phil...   \n",
              "181689  \"Trader escapes grenade attack in Imphal,\" Bus...   \n",
              "181690  \"Security tightened in Cotabato following IED ...   \n",
              "\n",
              "                                                   scite2  \\\n",
              "0                                                     NaN   \n",
              "1                                                     NaN   \n",
              "2                                                     NaN   \n",
              "3                                                     NaN   \n",
              "4                                                     NaN   \n",
              "...                                                   ...   \n",
              "181686  \"Highlights: Somalia Daily Media Highlights 2 ...   \n",
              "181687  \"Two Russian soldiers killed at Hmeymim base i...   \n",
              "181688                                                NaN   \n",
              "181689                                                NaN   \n",
              "181690  \"Security tightened in Cotabato City,\" Manila ...   \n",
              "\n",
              "                                                   scite3  \\\n",
              "0                                                     NaN   \n",
              "1                                                     NaN   \n",
              "2                                                     NaN   \n",
              "3                                                     NaN   \n",
              "4                                                     NaN   \n",
              "...                                                   ...   \n",
              "181686  \"Highlights: Somalia Daily Media Highlights 1 ...   \n",
              "181687  \"Two Russian servicemen killed in Syria mortar...   \n",
              "181688                                                NaN   \n",
              "181689                                                NaN   \n",
              "181690                                                NaN   \n",
              "\n",
              "                        dbsource  INT_LOG  INT_IDEO INT_MISC INT_ANY  related  \n",
              "0                           PGIS        0         0        0       0      NaN  \n",
              "1                           PGIS        0         1        1       1      NaN  \n",
              "2                           PGIS       -9        -9        1       1      NaN  \n",
              "3                           PGIS       -9        -9        1       1      NaN  \n",
              "4                           PGIS       -9        -9        1       1      NaN  \n",
              "...                          ...      ...       ...      ...     ...      ...  \n",
              "181686  START Primary Collection        0         0        0       0      NaN  \n",
              "181687  START Primary Collection       -9        -9        1       1      NaN  \n",
              "181688  START Primary Collection        0         0        0       0      NaN  \n",
              "181689  START Primary Collection       -9        -9        0      -9      NaN  \n",
              "181690  START Primary Collection       -9        -9        0      -9      NaN  \n",
              "\n",
              "[181691 rows x 135 columns]"
            ],
            "text/html": [
              "\n",
              "  <div id=\"df-49d1a971-73b4-4c6c-adcb-2922cbf7d4e8\" class=\"colab-df-container\">\n",
              "    <div>\n",
              "<style scoped>\n",
              "    .dataframe tbody tr th:only-of-type {\n",
              "        vertical-align: middle;\n",
              "    }\n",
              "\n",
              "    .dataframe tbody tr th {\n",
              "        vertical-align: top;\n",
              "    }\n",
              "\n",
              "    .dataframe thead th {\n",
              "        text-align: right;\n",
              "    }\n",
              "</style>\n",
              "<table border=\"1\" class=\"dataframe\">\n",
              "  <thead>\n",
              "    <tr style=\"text-align: right;\">\n",
              "      <th></th>\n",
              "      <th>eventid</th>\n",
              "      <th>iyear</th>\n",
              "      <th>imonth</th>\n",
              "      <th>iday</th>\n",
              "      <th>approxdate</th>\n",
              "      <th>extended</th>\n",
              "      <th>resolution</th>\n",
              "      <th>country</th>\n",
              "      <th>country_txt</th>\n",
              "      <th>region</th>\n",
              "      <th>...</th>\n",
              "      <th>addnotes</th>\n",
              "      <th>scite1</th>\n",
              "      <th>scite2</th>\n",
              "      <th>scite3</th>\n",
              "      <th>dbsource</th>\n",
              "      <th>INT_LOG</th>\n",
              "      <th>INT_IDEO</th>\n",
              "      <th>INT_MISC</th>\n",
              "      <th>INT_ANY</th>\n",
              "      <th>related</th>\n",
              "    </tr>\n",
              "  </thead>\n",
              "  <tbody>\n",
              "    <tr>\n",
              "      <th>0</th>\n",
              "      <td>197000000001</td>\n",
              "      <td>1970</td>\n",
              "      <td>7</td>\n",
              "      <td>2</td>\n",
              "      <td>NaN</td>\n",
              "      <td>0</td>\n",
              "      <td>NaN</td>\n",
              "      <td>58</td>\n",
              "      <td>Dominican Republic</td>\n",
              "      <td>2</td>\n",
              "      <td>...</td>\n",
              "      <td>NaN</td>\n",
              "      <td>NaN</td>\n",
              "      <td>NaN</td>\n",
              "      <td>NaN</td>\n",
              "      <td>PGIS</td>\n",
              "      <td>0</td>\n",
              "      <td>0</td>\n",
              "      <td>0</td>\n",
              "      <td>0</td>\n",
              "      <td>NaN</td>\n",
              "    </tr>\n",
              "    <tr>\n",
              "      <th>1</th>\n",
              "      <td>197000000002</td>\n",
              "      <td>1970</td>\n",
              "      <td>0</td>\n",
              "      <td>0</td>\n",
              "      <td>NaN</td>\n",
              "      <td>0</td>\n",
              "      <td>NaN</td>\n",
              "      <td>130</td>\n",
              "      <td>Mexico</td>\n",
              "      <td>1</td>\n",
              "      <td>...</td>\n",
              "      <td>NaN</td>\n",
              "      <td>NaN</td>\n",
              "      <td>NaN</td>\n",
              "      <td>NaN</td>\n",
              "      <td>PGIS</td>\n",
              "      <td>0</td>\n",
              "      <td>1</td>\n",
              "      <td>1</td>\n",
              "      <td>1</td>\n",
              "      <td>NaN</td>\n",
              "    </tr>\n",
              "    <tr>\n",
              "      <th>2</th>\n",
              "      <td>197001000001</td>\n",
              "      <td>1970</td>\n",
              "      <td>1</td>\n",
              "      <td>0</td>\n",
              "      <td>NaN</td>\n",
              "      <td>0</td>\n",
              "      <td>NaN</td>\n",
              "      <td>160</td>\n",
              "      <td>Philippines</td>\n",
              "      <td>5</td>\n",
              "      <td>...</td>\n",
              "      <td>NaN</td>\n",
              "      <td>NaN</td>\n",
              "      <td>NaN</td>\n",
              "      <td>NaN</td>\n",
              "      <td>PGIS</td>\n",
              "      <td>-9</td>\n",
              "      <td>-9</td>\n",
              "      <td>1</td>\n",
              "      <td>1</td>\n",
              "      <td>NaN</td>\n",
              "    </tr>\n",
              "    <tr>\n",
              "      <th>3</th>\n",
              "      <td>197001000002</td>\n",
              "      <td>1970</td>\n",
              "      <td>1</td>\n",
              "      <td>0</td>\n",
              "      <td>NaN</td>\n",
              "      <td>0</td>\n",
              "      <td>NaN</td>\n",
              "      <td>78</td>\n",
              "      <td>Greece</td>\n",
              "      <td>8</td>\n",
              "      <td>...</td>\n",
              "      <td>NaN</td>\n",
              "      <td>NaN</td>\n",
              "      <td>NaN</td>\n",
              "      <td>NaN</td>\n",
              "      <td>PGIS</td>\n",
              "      <td>-9</td>\n",
              "      <td>-9</td>\n",
              "      <td>1</td>\n",
              "      <td>1</td>\n",
              "      <td>NaN</td>\n",
              "    </tr>\n",
              "    <tr>\n",
              "      <th>4</th>\n",
              "      <td>197001000003</td>\n",
              "      <td>1970</td>\n",
              "      <td>1</td>\n",
              "      <td>0</td>\n",
              "      <td>NaN</td>\n",
              "      <td>0</td>\n",
              "      <td>NaN</td>\n",
              "      <td>101</td>\n",
              "      <td>Japan</td>\n",
              "      <td>4</td>\n",
              "      <td>...</td>\n",
              "      <td>NaN</td>\n",
              "      <td>NaN</td>\n",
              "      <td>NaN</td>\n",
              "      <td>NaN</td>\n",
              "      <td>PGIS</td>\n",
              "      <td>-9</td>\n",
              "      <td>-9</td>\n",
              "      <td>1</td>\n",
              "      <td>1</td>\n",
              "      <td>NaN</td>\n",
              "    </tr>\n",
              "    <tr>\n",
              "      <th>...</th>\n",
              "      <td>...</td>\n",
              "      <td>...</td>\n",
              "      <td>...</td>\n",
              "      <td>...</td>\n",
              "      <td>...</td>\n",
              "      <td>...</td>\n",
              "      <td>...</td>\n",
              "      <td>...</td>\n",
              "      <td>...</td>\n",
              "      <td>...</td>\n",
              "      <td>...</td>\n",
              "      <td>...</td>\n",
              "      <td>...</td>\n",
              "      <td>...</td>\n",
              "      <td>...</td>\n",
              "      <td>...</td>\n",
              "      <td>...</td>\n",
              "      <td>...</td>\n",
              "      <td>...</td>\n",
              "      <td>...</td>\n",
              "      <td>...</td>\n",
              "    </tr>\n",
              "    <tr>\n",
              "      <th>181686</th>\n",
              "      <td>201712310022</td>\n",
              "      <td>2017</td>\n",
              "      <td>12</td>\n",
              "      <td>31</td>\n",
              "      <td>NaN</td>\n",
              "      <td>0</td>\n",
              "      <td>NaN</td>\n",
              "      <td>182</td>\n",
              "      <td>Somalia</td>\n",
              "      <td>11</td>\n",
              "      <td>...</td>\n",
              "      <td>NaN</td>\n",
              "      <td>\"Somalia: Al-Shabaab Militants Attack Army Che...</td>\n",
              "      <td>\"Highlights: Somalia Daily Media Highlights 2 ...</td>\n",
              "      <td>\"Highlights: Somalia Daily Media Highlights 1 ...</td>\n",
              "      <td>START Primary Collection</td>\n",
              "      <td>0</td>\n",
              "      <td>0</td>\n",
              "      <td>0</td>\n",
              "      <td>0</td>\n",
              "      <td>NaN</td>\n",
              "    </tr>\n",
              "    <tr>\n",
              "      <th>181687</th>\n",
              "      <td>201712310029</td>\n",
              "      <td>2017</td>\n",
              "      <td>12</td>\n",
              "      <td>31</td>\n",
              "      <td>NaN</td>\n",
              "      <td>0</td>\n",
              "      <td>NaN</td>\n",
              "      <td>200</td>\n",
              "      <td>Syria</td>\n",
              "      <td>10</td>\n",
              "      <td>...</td>\n",
              "      <td>NaN</td>\n",
              "      <td>\"Putin's 'victory' in Syria has turned into a ...</td>\n",
              "      <td>\"Two Russian soldiers killed at Hmeymim base i...</td>\n",
              "      <td>\"Two Russian servicemen killed in Syria mortar...</td>\n",
              "      <td>START Primary Collection</td>\n",
              "      <td>-9</td>\n",
              "      <td>-9</td>\n",
              "      <td>1</td>\n",
              "      <td>1</td>\n",
              "      <td>NaN</td>\n",
              "    </tr>\n",
              "    <tr>\n",
              "      <th>181688</th>\n",
              "      <td>201712310030</td>\n",
              "      <td>2017</td>\n",
              "      <td>12</td>\n",
              "      <td>31</td>\n",
              "      <td>NaN</td>\n",
              "      <td>0</td>\n",
              "      <td>NaN</td>\n",
              "      <td>160</td>\n",
              "      <td>Philippines</td>\n",
              "      <td>5</td>\n",
              "      <td>...</td>\n",
              "      <td>NaN</td>\n",
              "      <td>\"Maguindanao clashes trap tribe members,\" Phil...</td>\n",
              "      <td>NaN</td>\n",
              "      <td>NaN</td>\n",
              "      <td>START Primary Collection</td>\n",
              "      <td>0</td>\n",
              "      <td>0</td>\n",
              "      <td>0</td>\n",
              "      <td>0</td>\n",
              "      <td>NaN</td>\n",
              "    </tr>\n",
              "    <tr>\n",
              "      <th>181689</th>\n",
              "      <td>201712310031</td>\n",
              "      <td>2017</td>\n",
              "      <td>12</td>\n",
              "      <td>31</td>\n",
              "      <td>NaN</td>\n",
              "      <td>0</td>\n",
              "      <td>NaN</td>\n",
              "      <td>92</td>\n",
              "      <td>India</td>\n",
              "      <td>6</td>\n",
              "      <td>...</td>\n",
              "      <td>NaN</td>\n",
              "      <td>\"Trader escapes grenade attack in Imphal,\" Bus...</td>\n",
              "      <td>NaN</td>\n",
              "      <td>NaN</td>\n",
              "      <td>START Primary Collection</td>\n",
              "      <td>-9</td>\n",
              "      <td>-9</td>\n",
              "      <td>0</td>\n",
              "      <td>-9</td>\n",
              "      <td>NaN</td>\n",
              "    </tr>\n",
              "    <tr>\n",
              "      <th>181690</th>\n",
              "      <td>201712310032</td>\n",
              "      <td>2017</td>\n",
              "      <td>12</td>\n",
              "      <td>31</td>\n",
              "      <td>NaN</td>\n",
              "      <td>0</td>\n",
              "      <td>NaN</td>\n",
              "      <td>160</td>\n",
              "      <td>Philippines</td>\n",
              "      <td>5</td>\n",
              "      <td>...</td>\n",
              "      <td>NaN</td>\n",
              "      <td>\"Security tightened in Cotabato following IED ...</td>\n",
              "      <td>\"Security tightened in Cotabato City,\" Manila ...</td>\n",
              "      <td>NaN</td>\n",
              "      <td>START Primary Collection</td>\n",
              "      <td>-9</td>\n",
              "      <td>-9</td>\n",
              "      <td>0</td>\n",
              "      <td>-9</td>\n",
              "      <td>NaN</td>\n",
              "    </tr>\n",
              "  </tbody>\n",
              "</table>\n",
              "<p>181691 rows × 135 columns</p>\n",
              "</div>\n",
              "    <div class=\"colab-df-buttons\">\n",
              "\n",
              "  <div class=\"colab-df-container\">\n",
              "    <button class=\"colab-df-convert\" onclick=\"convertToInteractive('df-49d1a971-73b4-4c6c-adcb-2922cbf7d4e8')\"\n",
              "            title=\"Convert this dataframe to an interactive table.\"\n",
              "            style=\"display:none;\">\n",
              "\n",
              "  <svg xmlns=\"http://www.w3.org/2000/svg\" height=\"24px\" viewBox=\"0 -960 960 960\">\n",
              "    <path d=\"M120-120v-720h720v720H120Zm60-500h600v-160H180v160Zm220 220h160v-160H400v160Zm0 220h160v-160H400v160ZM180-400h160v-160H180v160Zm440 0h160v-160H620v160ZM180-180h160v-160H180v160Zm440 0h160v-160H620v160Z\"/>\n",
              "  </svg>\n",
              "    </button>\n",
              "\n",
              "  <style>\n",
              "    .colab-df-container {\n",
              "      display:flex;\n",
              "      gap: 12px;\n",
              "    }\n",
              "\n",
              "    .colab-df-convert {\n",
              "      background-color: #E8F0FE;\n",
              "      border: none;\n",
              "      border-radius: 50%;\n",
              "      cursor: pointer;\n",
              "      display: none;\n",
              "      fill: #1967D2;\n",
              "      height: 32px;\n",
              "      padding: 0 0 0 0;\n",
              "      width: 32px;\n",
              "    }\n",
              "\n",
              "    .colab-df-convert:hover {\n",
              "      background-color: #E2EBFA;\n",
              "      box-shadow: 0px 1px 2px rgba(60, 64, 67, 0.3), 0px 1px 3px 1px rgba(60, 64, 67, 0.15);\n",
              "      fill: #174EA6;\n",
              "    }\n",
              "\n",
              "    .colab-df-buttons div {\n",
              "      margin-bottom: 4px;\n",
              "    }\n",
              "\n",
              "    [theme=dark] .colab-df-convert {\n",
              "      background-color: #3B4455;\n",
              "      fill: #D2E3FC;\n",
              "    }\n",
              "\n",
              "    [theme=dark] .colab-df-convert:hover {\n",
              "      background-color: #434B5C;\n",
              "      box-shadow: 0px 1px 3px 1px rgba(0, 0, 0, 0.15);\n",
              "      filter: drop-shadow(0px 1px 2px rgba(0, 0, 0, 0.3));\n",
              "      fill: #FFFFFF;\n",
              "    }\n",
              "  </style>\n",
              "\n",
              "    <script>\n",
              "      const buttonEl =\n",
              "        document.querySelector('#df-49d1a971-73b4-4c6c-adcb-2922cbf7d4e8 button.colab-df-convert');\n",
              "      buttonEl.style.display =\n",
              "        google.colab.kernel.accessAllowed ? 'block' : 'none';\n",
              "\n",
              "      async function convertToInteractive(key) {\n",
              "        const element = document.querySelector('#df-49d1a971-73b4-4c6c-adcb-2922cbf7d4e8');\n",
              "        const dataTable =\n",
              "          await google.colab.kernel.invokeFunction('convertToInteractive',\n",
              "                                                    [key], {});\n",
              "        if (!dataTable) return;\n",
              "\n",
              "        const docLinkHtml = 'Like what you see? Visit the ' +\n",
              "          '<a target=\"_blank\" href=https://colab.research.google.com/notebooks/data_table.ipynb>data table notebook</a>'\n",
              "          + ' to learn more about interactive tables.';\n",
              "        element.innerHTML = '';\n",
              "        dataTable['output_type'] = 'display_data';\n",
              "        await google.colab.output.renderOutput(dataTable, element);\n",
              "        const docLink = document.createElement('div');\n",
              "        docLink.innerHTML = docLinkHtml;\n",
              "        element.appendChild(docLink);\n",
              "      }\n",
              "    </script>\n",
              "  </div>\n",
              "\n",
              "\n",
              "<div id=\"df-b4ab6cd0-1b14-47bb-afdf-58a400460bbd\">\n",
              "  <button class=\"colab-df-quickchart\" onclick=\"quickchart('df-b4ab6cd0-1b14-47bb-afdf-58a400460bbd')\"\n",
              "            title=\"Suggest charts\"\n",
              "            style=\"display:none;\">\n",
              "\n",
              "<svg xmlns=\"http://www.w3.org/2000/svg\" height=\"24px\"viewBox=\"0 0 24 24\"\n",
              "     width=\"24px\">\n",
              "    <g>\n",
              "        <path d=\"M19 3H5c-1.1 0-2 .9-2 2v14c0 1.1.9 2 2 2h14c1.1 0 2-.9 2-2V5c0-1.1-.9-2-2-2zM9 17H7v-7h2v7zm4 0h-2V7h2v10zm4 0h-2v-4h2v4z\"/>\n",
              "    </g>\n",
              "</svg>\n",
              "  </button>\n",
              "\n",
              "<style>\n",
              "  .colab-df-quickchart {\n",
              "      --bg-color: #E8F0FE;\n",
              "      --fill-color: #1967D2;\n",
              "      --hover-bg-color: #E2EBFA;\n",
              "      --hover-fill-color: #174EA6;\n",
              "      --disabled-fill-color: #AAA;\n",
              "      --disabled-bg-color: #DDD;\n",
              "  }\n",
              "\n",
              "  [theme=dark] .colab-df-quickchart {\n",
              "      --bg-color: #3B4455;\n",
              "      --fill-color: #D2E3FC;\n",
              "      --hover-bg-color: #434B5C;\n",
              "      --hover-fill-color: #FFFFFF;\n",
              "      --disabled-bg-color: #3B4455;\n",
              "      --disabled-fill-color: #666;\n",
              "  }\n",
              "\n",
              "  .colab-df-quickchart {\n",
              "    background-color: var(--bg-color);\n",
              "    border: none;\n",
              "    border-radius: 50%;\n",
              "    cursor: pointer;\n",
              "    display: none;\n",
              "    fill: var(--fill-color);\n",
              "    height: 32px;\n",
              "    padding: 0;\n",
              "    width: 32px;\n",
              "  }\n",
              "\n",
              "  .colab-df-quickchart:hover {\n",
              "    background-color: var(--hover-bg-color);\n",
              "    box-shadow: 0 1px 2px rgba(60, 64, 67, 0.3), 0 1px 3px 1px rgba(60, 64, 67, 0.15);\n",
              "    fill: var(--button-hover-fill-color);\n",
              "  }\n",
              "\n",
              "  .colab-df-quickchart-complete:disabled,\n",
              "  .colab-df-quickchart-complete:disabled:hover {\n",
              "    background-color: var(--disabled-bg-color);\n",
              "    fill: var(--disabled-fill-color);\n",
              "    box-shadow: none;\n",
              "  }\n",
              "\n",
              "  .colab-df-spinner {\n",
              "    border: 2px solid var(--fill-color);\n",
              "    border-color: transparent;\n",
              "    border-bottom-color: var(--fill-color);\n",
              "    animation:\n",
              "      spin 1s steps(1) infinite;\n",
              "  }\n",
              "\n",
              "  @keyframes spin {\n",
              "    0% {\n",
              "      border-color: transparent;\n",
              "      border-bottom-color: var(--fill-color);\n",
              "      border-left-color: var(--fill-color);\n",
              "    }\n",
              "    20% {\n",
              "      border-color: transparent;\n",
              "      border-left-color: var(--fill-color);\n",
              "      border-top-color: var(--fill-color);\n",
              "    }\n",
              "    30% {\n",
              "      border-color: transparent;\n",
              "      border-left-color: var(--fill-color);\n",
              "      border-top-color: var(--fill-color);\n",
              "      border-right-color: var(--fill-color);\n",
              "    }\n",
              "    40% {\n",
              "      border-color: transparent;\n",
              "      border-right-color: var(--fill-color);\n",
              "      border-top-color: var(--fill-color);\n",
              "    }\n",
              "    60% {\n",
              "      border-color: transparent;\n",
              "      border-right-color: var(--fill-color);\n",
              "    }\n",
              "    80% {\n",
              "      border-color: transparent;\n",
              "      border-right-color: var(--fill-color);\n",
              "      border-bottom-color: var(--fill-color);\n",
              "    }\n",
              "    90% {\n",
              "      border-color: transparent;\n",
              "      border-bottom-color: var(--fill-color);\n",
              "    }\n",
              "  }\n",
              "</style>\n",
              "\n",
              "  <script>\n",
              "    async function quickchart(key) {\n",
              "      const quickchartButtonEl =\n",
              "        document.querySelector('#' + key + ' button');\n",
              "      quickchartButtonEl.disabled = true;  // To prevent multiple clicks.\n",
              "      quickchartButtonEl.classList.add('colab-df-spinner');\n",
              "      try {\n",
              "        const charts = await google.colab.kernel.invokeFunction(\n",
              "            'suggestCharts', [key], {});\n",
              "      } catch (error) {\n",
              "        console.error('Error during call to suggestCharts:', error);\n",
              "      }\n",
              "      quickchartButtonEl.classList.remove('colab-df-spinner');\n",
              "      quickchartButtonEl.classList.add('colab-df-quickchart-complete');\n",
              "    }\n",
              "    (() => {\n",
              "      let quickchartButtonEl =\n",
              "        document.querySelector('#df-b4ab6cd0-1b14-47bb-afdf-58a400460bbd button');\n",
              "      quickchartButtonEl.style.display =\n",
              "        google.colab.kernel.accessAllowed ? 'block' : 'none';\n",
              "    })();\n",
              "  </script>\n",
              "</div>\n",
              "\n",
              "  <div id=\"id_21780035-a9b5-4c19-a1ea-e3d42985a45b\">\n",
              "    <style>\n",
              "      .colab-df-generate {\n",
              "        background-color: #E8F0FE;\n",
              "        border: none;\n",
              "        border-radius: 50%;\n",
              "        cursor: pointer;\n",
              "        display: none;\n",
              "        fill: #1967D2;\n",
              "        height: 32px;\n",
              "        padding: 0 0 0 0;\n",
              "        width: 32px;\n",
              "      }\n",
              "\n",
              "      .colab-df-generate:hover {\n",
              "        background-color: #E2EBFA;\n",
              "        box-shadow: 0px 1px 2px rgba(60, 64, 67, 0.3), 0px 1px 3px 1px rgba(60, 64, 67, 0.15);\n",
              "        fill: #174EA6;\n",
              "      }\n",
              "\n",
              "      [theme=dark] .colab-df-generate {\n",
              "        background-color: #3B4455;\n",
              "        fill: #D2E3FC;\n",
              "      }\n",
              "\n",
              "      [theme=dark] .colab-df-generate:hover {\n",
              "        background-color: #434B5C;\n",
              "        box-shadow: 0px 1px 3px 1px rgba(0, 0, 0, 0.15);\n",
              "        filter: drop-shadow(0px 1px 2px rgba(0, 0, 0, 0.3));\n",
              "        fill: #FFFFFF;\n",
              "      }\n",
              "    </style>\n",
              "    <button class=\"colab-df-generate\" onclick=\"generateWithVariable('df')\"\n",
              "            title=\"Generate code using this dataframe.\"\n",
              "            style=\"display:none;\">\n",
              "\n",
              "  <svg xmlns=\"http://www.w3.org/2000/svg\" height=\"24px\"viewBox=\"0 0 24 24\"\n",
              "       width=\"24px\">\n",
              "    <path d=\"M7,19H8.4L18.45,9,17,7.55,7,17.6ZM5,21V16.75L18.45,3.32a2,2,0,0,1,2.83,0l1.4,1.43a1.91,1.91,0,0,1,.58,1.4,1.91,1.91,0,0,1-.58,1.4L9.25,21ZM18.45,9,17,7.55Zm-12,3A5.31,5.31,0,0,0,4.9,8.1,5.31,5.31,0,0,0,1,6.5,5.31,5.31,0,0,0,4.9,4.9,5.31,5.31,0,0,0,6.5,1,5.31,5.31,0,0,0,8.1,4.9,5.31,5.31,0,0,0,12,6.5,5.46,5.46,0,0,0,6.5,12Z\"/>\n",
              "  </svg>\n",
              "    </button>\n",
              "    <script>\n",
              "      (() => {\n",
              "      const buttonEl =\n",
              "        document.querySelector('#id_21780035-a9b5-4c19-a1ea-e3d42985a45b button.colab-df-generate');\n",
              "      buttonEl.style.display =\n",
              "        google.colab.kernel.accessAllowed ? 'block' : 'none';\n",
              "\n",
              "      buttonEl.onclick = () => {\n",
              "        google.colab.notebook.generateWithVariable('df');\n",
              "      }\n",
              "      })();\n",
              "    </script>\n",
              "  </div>\n",
              "\n",
              "    </div>\n",
              "  </div>\n"
            ],
            "application/vnd.google.colaboratory.intrinsic+json": {
              "type": "dataframe",
              "variable_name": "df"
            }
          },
          "metadata": {},
          "execution_count": 4
        }
      ]
    },
    {
      "cell_type": "markdown",
      "source": [
        "### Dataset Rows & Columns count"
      ],
      "metadata": {
        "id": "7hBIi_osiCS2"
      }
    },
    {
      "cell_type": "code",
      "source": [
        "# Dataset Rows & Columns count\n",
        "rows,cols = df.shape\n",
        "print(f\"the dataset has {rows} rows and {cols} columns\")"
      ],
      "metadata": {
        "id": "Kllu7SJgmLij",
        "colab": {
          "base_uri": "https://localhost:8080/"
        },
        "outputId": "ec7fc330-bee3-4b1a-8098-7861573e09c7"
      },
      "execution_count": 5,
      "outputs": [
        {
          "output_type": "stream",
          "name": "stdout",
          "text": [
            "the dataset has 181691 rows and 135 columns\n"
          ]
        }
      ]
    },
    {
      "cell_type": "markdown",
      "source": [
        "### Dataset Information"
      ],
      "metadata": {
        "id": "JlHwYmJAmNHm"
      }
    },
    {
      "cell_type": "code",
      "source": [
        "# Dataset Info\n",
        "df.info()"
      ],
      "metadata": {
        "id": "e9hRXRi6meOf",
        "colab": {
          "base_uri": "https://localhost:8080/"
        },
        "outputId": "37fe383f-aaf1-4280-c578-220d1376ab0e"
      },
      "execution_count": 6,
      "outputs": [
        {
          "output_type": "stream",
          "name": "stdout",
          "text": [
            "<class 'pandas.core.frame.DataFrame'>\n",
            "RangeIndex: 181691 entries, 0 to 181690\n",
            "Columns: 135 entries, eventid to related\n",
            "dtypes: float64(55), int64(22), object(58)\n",
            "memory usage: 187.1+ MB\n"
          ]
        }
      ]
    },
    {
      "cell_type": "markdown",
      "source": [
        "#### Duplicate Values"
      ],
      "metadata": {
        "id": "35m5QtbWiB9F"
      }
    },
    {
      "cell_type": "code",
      "source": [
        "# Dataset Duplicate Value Count\n",
        "duplicate_rows = df.duplicated().sum()\n",
        "print(f\"There are {duplicate_rows} duplicate_rows in the dataset\")"
      ],
      "metadata": {
        "id": "1sLdpKYkmox0",
        "colab": {
          "base_uri": "https://localhost:8080/"
        },
        "outputId": "f2d05f6a-5e8d-43d1-e381-c0320abc4fef"
      },
      "execution_count": 7,
      "outputs": [
        {
          "output_type": "stream",
          "name": "stdout",
          "text": [
            "There are 0 duplicate_rows in the dataset\n"
          ]
        }
      ]
    },
    {
      "cell_type": "markdown",
      "source": [
        "#### Missing Values/Null Values"
      ],
      "metadata": {
        "id": "PoPl-ycgm1ru"
      }
    },
    {
      "cell_type": "code",
      "source": [
        "# Missing Values/Null Values Count\n",
        "missing_values = df.isnull().sum()\n",
        "print(missing_values)"
      ],
      "metadata": {
        "id": "GgHWkxvamxVg",
        "colab": {
          "base_uri": "https://localhost:8080/"
        },
        "outputId": "d01641ed-9713-4049-8f96-50fed588b66f"
      },
      "execution_count": 8,
      "outputs": [
        {
          "output_type": "stream",
          "name": "stdout",
          "text": [
            "eventid            0\n",
            "iyear              0\n",
            "imonth             0\n",
            "iday               0\n",
            "approxdate    172452\n",
            "               ...  \n",
            "INT_LOG            0\n",
            "INT_IDEO           0\n",
            "INT_MISC           0\n",
            "INT_ANY            0\n",
            "related       156653\n",
            "Length: 135, dtype: int64\n"
          ]
        }
      ]
    },
    {
      "cell_type": "code",
      "source": [
        "# Visualizing the missing values\n",
        "plt.figure(figsize=(8, 6))\n",
        "sns.heatmap(df.isnull(), cmap='viridis', cbar=False)\n",
        "plt.title('Missing Values Heatmap')\n",
        "plt.show()"
      ],
      "metadata": {
        "id": "3q5wnI3om9sJ",
        "colab": {
          "base_uri": "https://localhost:8080/",
          "height": 659
        },
        "outputId": "c339563e-d123-4f83-f5a0-9a9bfa6d8f6c"
      },
      "execution_count": 9,
      "outputs": [
        {
          "output_type": "display_data",
          "data": {
            "text/plain": [
              "<Figure size 800x600 with 1 Axes>"
            ],
            "image/png": "[encoded data removed]"
          },
          "metadata": {}
        }
      ]
    },
    {
      "cell_type": "markdown",
      "source": [
        "### What did you know about your dataset?"
      ],
      "metadata": {
        "id": "H0kj-8xxnORC"
      }
    },
    {
      "cell_type": "markdown",
      "source": [
        "**Dataset Size:** The dataset is quite large, containing 181,691 entries or rows.\n",
        "\n",
        "**Feature Quantity:** The dataset contains 135 features or columns.\n",
        "\n",
        "**Data Types:** The dataset has a mix of data types. There are 55 features with floating point numbers (float64), 22 features with integers (int64), and 58 features with objects (object). The object datatype in pandas typically means the column contains string (text) data.\n",
        "\n",
        "**Memory Usage:** The dataset uses over 187.1 MB of memory.\n",
        "\n",
        "**Missing Values:** There are some columns with a large number of missing values. For example, the 'approxdate' column has 172,452 missing. Values and the 'related' column has 156,653 missing values. However, several columns do not have any missing values, such as 'eventid', 'iyear', 'imonth', 'iday', 'INT_LOG', 'INT_IDEO', 'INT_MISC', and 'INT_ANY'.\n",
        "\n",
        "**Duplicate Values:** There are no duplicate values in the dataset.Answer Here"
      ],
      "metadata": {
        "id": "gfoNAAC-nUe_"
      }
    },
    {
      "cell_type": "markdown",
      "source": [
        "## ***2. Understanding Your Variables***"
      ],
      "metadata": {
        "id": "nA9Y7ga8ng1Z"
      }
    },
    {
      "cell_type": "code",
      "source": [
        "# Dataset Columns\n",
        "columns = df.columns\n",
        "\n",
        "print(\"Columns in the dataset: \")\n",
        "\n",
        "for column in columns:\n",
        "  print(column)"
      ],
      "metadata": {
        "id": "j7xfkqrt5Ag5"
      },
      "execution_count": null,
      "outputs": []
    },
    {
      "cell_type": "markdown",
      "source": [
        "### Variables Description"
      ],
      "metadata": {
        "id": "PBTbrJXOngz2"
      }
    },
    {
      "cell_type": "markdown",
      "source": [
        "eventid: Unique ID for each event or terrorist attack.\n",
        "\n",
        "iyear: Year the terrorist attack occurred.\n",
        "\n",
        "imonth: Month the terrorist attack occurred.\n",
        "\n",
        "iday: Day the terrorist attack occurred.\n",
        "\n",
        "country_txt: Name of the country where the terrorist attack occurred.\n",
        "\n",
        "region_txt: Name of the region where the terrorist attack occurred.\n",
        "\n",
        "city: City where the terrorist attack occurred.\n",
        "\n",
        "attacktype1_txt: The general method of attack employed.\n",
        "\n",
        "target1: The specific person, building, installation, etc., that was targeted.\n",
        "\n",
        "nkill: Number of confirmed fatalities for the incident.\n",
        "\n",
        "nwound: Number of confirmed non-fatal injuries.\n",
        "\n",
        "gname: Name of the group that carried out the attack.Answer Here"
      ],
      "metadata": {
        "id": "aJV4KIxSnxay"
      }
    },
    {
      "cell_type": "markdown",
      "source": [
        "### Check Unique Values for each variable."
      ],
      "metadata": {
        "id": "u3PMJOP6ngxN"
      }
    },
    {
      "cell_type": "code",
      "source": [
        "# Check Unique Values for each variable.\n",
        "unique_country = df['country_txt'].unique()\n",
        "print(unique_country)\n",
        "\n",
        "print()                 #this satement leaves a gap in the output.\n",
        "\n",
        "unique_years = df['iyear'].unique()\n",
        "print(unique_years)"
      ],
      "metadata": {
        "id": "zms12Yq5n-jE"
      },
      "execution_count": null,
      "outputs": []
    },
    {
      "cell_type": "markdown",
      "source": [
        "## 3. ***Data Wrangling***"
      ],
      "metadata": {
        "id": "dauF4eBmngu3"
      }
    },
    {
      "cell_type": "markdown",
      "source": [
        "### Data Wrangling Code"
      ],
      "metadata": {
        "id": "bKJF3rekwFvQ"
      }
    },
    {
      "cell_type": "code",
      "source": [
        "# Selecting the relevent columns for our anaysis:\n",
        "\n",
        "df = df[[\"iyear\",\"imonth\",\"iday\",\"country_txt\",\"region_txt\",\"provstate\",\"city\",\n",
        "       \"latitude\",\"longitude\",\"location\",\"summary\",\"attacktype1_txt\",\"targtype1_txt\",\n",
        "       \"gname\",\"motive\",\"weaptype1_txt\",\"nkill\",\"nwound\",\"addnotes\"]]\n",
        "df"
      ],
      "metadata": {
        "id": "wk-9a2fpoLcV"
      },
      "execution_count": null,
      "outputs": []
    },
    {
      "cell_type": "code",
      "source": [
        "# renaming the columns to their appropriate names:\n",
        "df.rename(columns={\"iyear\":\"Year\",\"imonth\":\"Month\",\"iday\":\"Day\",\"country_txt\":\"Country\",\n",
        "                   \"region_txt\":\"Region\",\"provstate\":\"Province/State\",\"city\":\"City\",\n",
        "                   \"latitude\":\"Latitude\",\"longitude\":\"Longitude\",\"location\":\"Location\",\n",
        "                   \"summary\":\"Summary\",\"attacktype1_txt\":\"Attack Type\",\"targtype1_txt\":\"Target Type\",\n",
        "                   \"gname\":\"Group Name\",\"motive\":\"Motive\",\"weaptype1_txt\":\"Weapon Type\",\n",
        "                   \"nkill\":\"Killed\",\"nwound\":\"Wounded\",\"addnotes\":\"Add Notes\"},inplace=True)"
      ],
      "metadata": {
        "id": "0lB_umb5CO0z"
      },
      "execution_count": null,
      "outputs": []
    },
    {
      "cell_type": "code",
      "source": [
        "df.head()"
      ],
      "metadata": {
        "id": "wPEbBfz4CSI6"
      },
      "execution_count": null,
      "outputs": []
    },
    {
      "cell_type": "code",
      "source": [
        "df.tail()"
      ],
      "metadata": {
        "id": "mp429l3wCY6V"
      },
      "execution_count": null,
      "outputs": []
    },
    {
      "cell_type": "code",
      "source": [
        "df.info()"
      ],
      "metadata": {
        "id": "xhlKuTyMCdMV"
      },
      "execution_count": null,
      "outputs": []
    },
    {
      "cell_type": "code",
      "source": [
        "# checking the shape of the modified dataset.\n",
        "rows, cols = df.shape\n",
        "print(f\"There are {rows} rows and {cols} columns in the modified dataset\")"
      ],
      "metadata": {
        "id": "1Q5WvEAVCkw8"
      },
      "execution_count": null,
      "outputs": []
    },
    {
      "cell_type": "code",
      "source": [
        "# Checking for null values in the modified dataset\n",
        "df.isnull().sum()"
      ],
      "metadata": {
        "id": "PIiZcJ6CCno8"
      },
      "execution_count": null,
      "outputs": []
    },
    {
      "cell_type": "code",
      "source": [
        "# Manipulating some missing columns\n",
        "df['Killed'] = df['Killed'].fillna(0)\n",
        "df['Wounded'] = df[\"Wounded\"].fillna(0)"
      ],
      "metadata": {
        "id": "5LXtFjP0CuBt"
      },
      "execution_count": null,
      "outputs": []
    },
    {
      "cell_type": "code",
      "source": [
        "# Creating a new column \"Casualty\"\n",
        "df['Casualty'] = df['Killed']+df['Wounded']\n",
        "df.tail()"
      ],
      "metadata": {
        "id": "afDUs9pTCwg7"
      },
      "execution_count": null,
      "outputs": []
    },
    {
      "cell_type": "code",
      "source": [
        "#dataset describe:\n",
        "df.describe()"
      ],
      "metadata": {
        "id": "4N8dlzC4C4L7"
      },
      "execution_count": null,
      "outputs": []
    },
    {
      "cell_type": "markdown",
      "source": [
        "### What all manipulations have you done and insights you found?"
      ],
      "metadata": {
        "id": "MSa1f5Uengrz"
      }
    },
    {
      "cell_type": "markdown",
      "source": [
        "Selected 19 important columns from 135 columns for our analysis.\n",
        "\n",
        "Created a new column by name \" Casualty\".\n",
        "\n",
        "The data consists of terrorist activities ranging from the year: 1970 to 2017\n",
        "\n",
        "Maximum number of people killed in an event were: 1570\n",
        "\n",
        "Maximum number of people wounded in an event were: 8191\n",
        "\n",
        "Maximum number of total casualties in an event were: 9574"
      ],
      "metadata": {
        "id": "iQnIyMVQBhqC"
      }
    },
    {
      "cell_type": "markdown",
      "source": [
        "Answer Here."
      ],
      "metadata": {
        "id": "LbyXE7I1olp8"
      }
    },
    {
      "cell_type": "markdown",
      "source": [
        "## ***4. Data Vizualization, Storytelling & Experimenting with charts : Understand the relationships between variables***"
      ],
      "metadata": {
        "id": "GF8Ens_Soomf"
      }
    },
    {
      "cell_type": "markdown",
      "source": [
        "### **The storytelling and visualizations in this project will be based on these parameters**:\n",
        "\n",
        "* Year Wise Attacks.\n",
        "\n",
        "*  Region wise Attacks.\n",
        "\n",
        "* Country Wise Attacks - Top 10.\n",
        "\n",
        "* City Wise Attacks - Top 10.\n",
        "\n",
        "* Terrorist Group wise Attacks.\n",
        "\n",
        "* 'Attack Type' wise Attacks.\n",
        "\n",
        "* Target Type Wise Attacks.\n",
        "\n",
        "* Group + Country wise Attacks - Top 10.\n",
        "\n",
        "* Humanity affected(World-wide) by Terrorist Attacks from 1970 - 2017.\n",
        "\n",
        "### **All of the above parameters will be calculated and visualized on the basis of :**\n",
        "1. Number of Attacks.\n",
        "\n",
        "2.  Total Casualty.\n",
        "\n",
        "3.  Total people Killed.\n",
        "\n",
        "4.  Total people Wounded."
      ],
      "metadata": {
        "id": "DDLScsaaDIUm"
      }
    },
    {
      "cell_type": "markdown",
      "source": [
        "##**1. Year Wise Attacks**"
      ],
      "metadata": {
        "id": "nazF50lfEh9l"
      }
    },
    {
      "cell_type": "markdown",
      "source": [
        "###**a) Number of Attacks in Each Year**"
      ],
      "metadata": {
        "id": "MeuTUN_CE0mu"
      }
    },
    {
      "cell_type": "code",
      "source": [
        "attacks = df.groupby(\"Year\")[\"Attack Type\"].count().to_frame().reset_index().set_index(\"Year\")"
      ],
      "metadata": {
        "id": "G8XQEjDtAo8M"
      },
      "execution_count": null,
      "outputs": []
    },
    {
      "cell_type": "markdown",
      "source": [
        "#### Chart - 1"
      ],
      "metadata": {
        "id": "0wOQAZs5pc--"
      }
    },
    {
      "cell_type": "code",
      "source": [
        "# Chart - 1 visualization code\n",
        "\n",
        "attacks.plot(kind=\"bar\",color=\"red\",figsize=(15,6),fontsize=13)\n",
        "\n",
        "# Adding title and labels\n",
        "plt.title(\"Timeline of Attacks\",fontsize=15)\n",
        "plt.xlabel(\"Years\",fontsize=15)\n",
        "plt.ylabel(\"Number of Attacks\",fontsize=15)\n",
        "plt.show()"
      ],
      "metadata": {
        "id": "7v_ESjsspbW7"
      },
      "execution_count": null,
      "outputs": []
    },
    {
      "cell_type": "markdown",
      "source": [
        "##### 1. Why did you pick the specific chart?"
      ],
      "metadata": {
        "id": "K5QZ13OEpz2H"
      }
    },
    {
      "cell_type": "markdown",
      "source": [
        "* Bar charts are useful when we want to compare the number of attacks across different years easily. The length of the bars provides a clear visual representation of the quantity.\n",
        "* Years can be considered as discrete, categorical data. Bar charts are well-suited for displaying the count or frequency of categorical data.Answer Here."
      ],
      "metadata": {
        "id": "XESiWehPqBRc"
      }
    },
    {
      "cell_type": "markdown",
      "source": [
        "##### 2. What is/are the insight(s) found from the chart?"
      ],
      "metadata": {
        "id": "lQ7QKXXCp7Bj"
      }
    },
    {
      "cell_type": "markdown",
      "source": [
        "(i). Most number of attacks(16903) in 2014\n",
        "\n",
        "(ii). Least number of attacks(471) in 1971Answer Here"
      ],
      "metadata": {
        "id": "C_j1G7yiqdRP"
      }
    },
    {
      "cell_type": "markdown",
      "source": [
        "##### 3. Will the gained insights help creating a positive business impact?\n",
        "Are there any insights that lead to negative growth? Justify with specific reason."
      ],
      "metadata": {
        "id": "448CDAPjqfQr"
      }
    },
    {
      "cell_type": "markdown",
      "source": [
        "1. From this chart we can clearly see that terrorist activities have started increasing substantially since 2005.\n",
        "\n",
        "2. Countries and their Millitary Organisations can proactively develop strategies to mitigate the terrorism risks.\n",
        "\n",
        "3. The chart can prompt an evaluation of the readiness of military organizations to respond to the evolving threat landscapeAnswer Here"
      ],
      "metadata": {
        "id": "3cspy4FjqxJW"
      }
    },
    {
      "cell_type": "markdown",
      "source": [
        "#### Chart - 2"
      ],
      "metadata": {
        "id": "KSlN3yHqYklG"
      }
    },
    {
      "cell_type": "markdown",
      "source": [
        "###**b) Total Casualties (Killed + Wounded) in each Year**"
      ],
      "metadata": {
        "id": "ovkTdIoAGDiM"
      }
    },
    {
      "cell_type": "code",
      "source": [
        "cas= df[['Year','Killed']].groupby('Year').sum()\n",
        "cas.head()"
      ],
      "metadata": {
        "id": "c37dm0-gGV7z"
      },
      "execution_count": null,
      "outputs": []
    },
    {
      "cell_type": "code",
      "source": [
        "# Chart - 2 visualization code\n",
        "\n",
        "plt.figure(figsize=(15, 6))\n",
        "sns.lineplot(data=cas, x='Year', y='Killed', color='red', marker='o', linestyle='--')\n",
        "\n",
        "# Adding title and labels\n",
        "plt.title(\"Year-wise Casualties\", fontsize=13)\n",
        "plt.xlabel(\"Years\", fontsize=13)\n",
        "plt.ylabel(\"Number of Casualties\", fontsize=13)\n",
        "\n",
        "# Seting x-axis ticks to display all years\n",
        "plt.xticks(cas.index, rotation=90, ha='center', fontsize=12)\n",
        "\n",
        "# Display the chart\n",
        "plt.show()"
      ],
      "metadata": {
        "id": "R4YgtaqtYklH"
      },
      "execution_count": null,
      "outputs": []
    },
    {
      "cell_type": "markdown",
      "source": [
        "##### 1. Why did you pick the specific chart?"
      ],
      "metadata": {
        "id": "t6dVpIINYklI"
      }
    },
    {
      "cell_type": "markdown",
      "source": [
        "A line chart is a suitable choice for visualizing time series data, such as the number of casualties over different yearsAnswer Here."
      ],
      "metadata": {
        "id": "5aaW0BYyYklI"
      }
    },
    {
      "cell_type": "markdown",
      "source": [
        "##### 2. What is/are the insight(s) found from the chart?"
      ],
      "metadata": {
        "id": "ijmpgYnKYklI"
      }
    },
    {
      "cell_type": "markdown",
      "source": [
        "* The number of casualties(killed + wounded) were Highest in 2014, followed by 2015, 2016 and 2017.\n",
        "* The number of casualties(killed + wounded) were Least in 1970 and 1971Answer Here"
      ],
      "metadata": {
        "id": "PSx9atu2YklI"
      }
    },
    {
      "cell_type": "markdown",
      "source": [
        "##### 3. Will the gained insights help creating a positive business impact?\n",
        "Are there any insights that lead to negative growth? Justify with specific reason."
      ],
      "metadata": {
        "id": "-JiQyfWJYklI"
      }
    },
    {
      "cell_type": "markdown",
      "source": [
        "* Countries and their Governments can proactively develop healthcare facilities to reduce the number of fatal casualties during terrorist attacks.\n",
        "* The chart can prompt an evaluation of the readiness of military organizations to respond to the evolving threat landscape.Answer Here"
      ],
      "metadata": {
        "id": "BcBbebzrYklV"
      }
    },
    {
      "cell_type": "markdown",
      "source": [
        "#### Chart - 3"
      ],
      "metadata": {
        "id": "EM7whBJCYoAo"
      }
    },
    {
      "cell_type": "markdown",
      "source": [
        "##**c) Killed in each Year.**"
      ],
      "metadata": {
        "id": "aI9fO3uPHA-l"
      }
    },
    {
      "cell_type": "code",
      "source": [
        "yk=df[[\"Year\",\"Killed\"]].groupby(\"Year\").sum()\n",
        "yk.head()"
      ],
      "metadata": {
        "id": "2NRsUvzuHKur"
      },
      "execution_count": null,
      "outputs": []
    },
    {
      "cell_type": "code",
      "source": [
        "# Chart - 3 visualization code\n",
        "\n",
        "fig=plt.figure()                # Creates a new figure (empty canvas) for plotting.\n",
        "ax0=fig.add_subplot(2,1,1)      # Creates a subplot.\n",
        "\n",
        "yk.plot(kind=\"line\",color=\"red\",figsize=(15,15),ax=ax0)\n",
        "ax0.set_title(\"People Killed in each Year\")\n",
        "ax0.set_xlabel(\"Years\")\n",
        "ax0.set_ylabel(\"Number of People Killed\")\n",
        "plt.show()\n",
        "\n"
      ],
      "metadata": {
        "id": "rUGIgAn-JIJo"
      },
      "execution_count": null,
      "outputs": []
    },
    {
      "cell_type": "markdown",
      "source": [
        "##### 1. Why did you pick the specific chart?"
      ],
      "metadata": {
        "id": "fge-S5ZAYoAp"
      }
    },
    {
      "cell_type": "markdown",
      "source": [
        "Line charts are useful when we want to compare the number of people killed across different years easily. Line charts are used to visualize trends and patterns over time or across a continuous domain, making it easy to understand the relationship between two variables"
      ],
      "metadata": {
        "id": "5dBItgRVYoAp"
      }
    },
    {
      "cell_type": "markdown",
      "source": [
        "##### 2. What is/are the insight(s) found from the chart?"
      ],
      "metadata": {
        "id": "85gYPyotYoAp"
      }
    },
    {
      "cell_type": "markdown",
      "source": [
        "* The number of people Killed were Highest in 2014, followed by 2015, 2016 and 2017.\n",
        "* The number of people Killed were Least in 1970 and 1971.Answer Here"
      ],
      "metadata": {
        "id": "4jstXR6OYoAp"
      }
    },
    {
      "cell_type": "markdown",
      "source": [
        "##### 3. Will the gained insights help creating a positive business impact?\n",
        "Are there any insights that lead to negative growth? Justify with specific reason."
      ],
      "metadata": {
        "id": "RoGjAbkUYoAp"
      }
    },
    {
      "cell_type": "markdown",
      "source": [
        "* Countries and their Governments can proactively develop healthcare facilities to reduce the number of deaths during terrorist attacks\n",
        "* The chart can prompt an evaluation of the readiness of military organizations to respond to the evolving threat landscapeAnswer Here"
      ],
      "metadata": {
        "id": "zfJ8IqMcYoAp"
      }
    },
    {
      "cell_type": "markdown",
      "source": [
        "#### Chart - 4"
      ],
      "metadata": {
        "id": "4Of9eVA-YrdM"
      }
    },
    {
      "cell_type": "markdown",
      "source": [
        "##**d) Wounded in each Year.**"
      ],
      "metadata": {
        "id": "LPZCg3h2Kxyd"
      }
    },
    {
      "cell_type": "code",
      "source": [
        "yw=df[[\"Year\",\"Wounded\"]].groupby(\"Year\").sum()\n",
        "yw.head()"
      ],
      "metadata": {
        "id": "WhFsfCI6K6o8"
      },
      "execution_count": null,
      "outputs": []
    },
    {
      "cell_type": "code",
      "source": [
        "# Chart - 4 visualization code\n",
        "\n",
        "plt.figure(figsize=(15, 6))\n",
        "\n",
        "# Plotting as a bar chart\n",
        "sns.barplot(data=yw, x='Year', y='Wounded', color='red')\n",
        "\n",
        "# Adding title and labels\n",
        "plt.title(\"People Wounded in each Year\", fontsize=13)\n",
        "plt.xlabel(\"Years\", fontsize=13)\n",
        "plt.ylabel(\"Number of People Wounded\", fontsize=13)\n",
        "\n",
        "# Set x-axis ticks to display all years with center alignment\n",
        "plt.xticks(rotation=90, ha='center', fontsize=12)\n",
        "\n",
        "# Display the chart\n",
        "plt.show()\n"
      ],
      "metadata": {
        "id": "irlUoxc8YrdO"
      },
      "execution_count": null,
      "outputs": []
    },
    {
      "cell_type": "markdown",
      "source": [
        "##### 1. Why did you pick the specific chart?"
      ],
      "metadata": {
        "id": "iky9q4vBYrdO"
      }
    },
    {
      "cell_type": "markdown",
      "source": [
        "A bar chart is a suitable choice for visualizing time series data, such as the number of people Wounded over different years."
      ],
      "metadata": {
        "id": "aJRCwT6DYrdO"
      }
    },
    {
      "cell_type": "markdown",
      "source": [
        "##### 2. What is/are the insight(s) found from the chart?"
      ],
      "metadata": {
        "id": "F6T5p64dYrdO"
      }
    },
    {
      "cell_type": "markdown",
      "source": [
        "* The number of people Wounded were Highest in 2015, followed by 2014 and 2016\n",
        "\n",
        "* A significant number of individuals sustaining injuries was also recorded in the year 2013.\n",
        "\n",
        "* The number of people Wounded were Least in 1971Answer Here"
      ],
      "metadata": {
        "id": "Xx8WAJvtYrdO"
      }
    },
    {
      "cell_type": "markdown",
      "source": [
        "##### 3. Will the gained insights help creating a positive business impact?\n",
        "Are there any insights that lead to negative growth? Justify with specific reason."
      ],
      "metadata": {
        "id": "y-Ehk30pYrdP"
      }
    },
    {
      "cell_type": "markdown",
      "source": [
        "* Governments and nations can take proactive measures to enhance healthcare infrastructure, addressing the needs of those injured in the aftermath of terrorist attacks.Answer Here"
      ],
      "metadata": {
        "id": "jLNxxz7MYrdP"
      }
    },
    {
      "cell_type": "markdown",
      "source": [
        "#**2. Region wise Attacks**"
      ],
      "metadata": {
        "id": "8sdggXZEL8fQ"
      }
    },
    {
      "cell_type": "markdown",
      "source": [
        "### ***a) Distribution of Terrorist Attacks over Regions from 1970-2017***"
      ],
      "metadata": {
        "id": "wDR37oSeGr6y"
      }
    },
    {
      "cell_type": "code",
      "source": [
        "reg=pd.crosstab(df.Year,df.Region) # creating a cross-tabulation between the \"Year\" column and the \"Region\" column in the DataFrame.\n",
        "                                   # It counts the occurrences of each combination of year and region.\n",
        "                                   # It's a useful way to analyze and understand the distribution of data across these two categorical variables.\n",
        "reg.head()"
      ],
      "metadata": {
        "id": "MqjB8t_wG8ry"
      },
      "execution_count": null,
      "outputs": []
    },
    {
      "cell_type": "markdown",
      "source": [
        "#### Chart - 5"
      ],
      "metadata": {
        "id": "bamQiAODYuh1"
      }
    },
    {
      "cell_type": "code",
      "source": [
        "# Chart - 5 visualization code\n",
        "reg.plot(kind=\"area\", stacked=False, alpha=0.5,figsize=(20,10))\n",
        "                                              # With the stacked=False parameter, each region's contribution is shown separately rather than being stacked on top of each other\n",
        "\n",
        "plt.title(\"Region wise attacks\",fontsize=20)\n",
        "plt.xlabel(\"Years\",fontsize=20)\n",
        "plt.ylabel(\"Number of Attacks\",fontsize=20)\n",
        "plt.show()"
      ],
      "metadata": {
        "id": "TIJwrbroYuh3"
      },
      "execution_count": null,
      "outputs": []
    },
    {
      "cell_type": "markdown",
      "source": [
        "##### 1. Why did you pick the specific chart?"
      ],
      "metadata": {
        "id": "QHF8YVU7Yuh3"
      }
    },
    {
      "cell_type": "markdown",
      "source": [
        "Area plots are effective for visualizing trends over time. They provide a clear view of how the overall number of attacks changes across different regions in each year"
      ],
      "metadata": {
        "id": "Yr_E1zF1Hmya"
      }
    },
    {
      "cell_type": "markdown",
      "source": [
        "##### 2. What is/are the insight(s) found from the chart?"
      ],
      "metadata": {
        "id": "GwzvFGzlYuh3"
      }
    },
    {
      "cell_type": "markdown",
      "source": [
        "* \"Middle East & North Africa\" suffered the Most number of Terrorist attacks.\n",
        "* \"Australasia & Oceania\" has the Least number of Terrorist attacks.Answer Here"
      ],
      "metadata": {
        "id": "uyqkiB8YYuh3"
      }
    },
    {
      "cell_type": "markdown",
      "source": [
        "##### 3. Will the gained insights help creating a positive business impact?\n",
        "Are there any insights that lead to negative growth? Justify with specific reason."
      ],
      "metadata": {
        "id": "qYpmQ266Yuh3"
      }
    },
    {
      "cell_type": "markdown",
      "source": [
        "***Positive Impact***: Industries related to security technologies, risk assessment tools, and crisis management solutions may find increased demand in regions facing higher terrorism risks. Businesses in these sectors may explore opportunities to provide innovative solutions to address security challenges     \n",
        "***Positive Impact***: Knowledge about the regions with lower incidence of terrorism, such as Australia and Oceania, can inform market expansion strategies. Businesses may consider these regions as relatively safer environments for investment and market entry.                                                                            \n",
        "***Negative Impact***: Insights about regions with higher terrorism risks can impact insurance and financial planning. Businesses operating in high-risk areas may face higher insurance premiums, and financial planning may need to account for potential disruptions due to security incidentsAnswer Here"
      ],
      "metadata": {
        "id": "_WtzZ_hCYuh4"
      }
    },
    {
      "cell_type": "markdown",
      "source": [
        "#### Chart - 6"
      ],
      "metadata": {
        "id": "OH-pJp9IphqM"
      }
    },
    {
      "cell_type": "markdown",
      "source": [
        "### ***b) Total Terrorist Attacks in each Region from 1970-2017***"
      ],
      "metadata": {
        "id": "6YgsEaYYJECp"
      }
    },
    {
      "cell_type": "code",
      "source": [
        "# Chart - 6 visualization code\n",
        "regt=reg.transpose()                                    # Swapping the rows and columns of the earlier created DataFrame 'reg'.\n",
        "\n",
        "regt['Total']=regt.sum(axis=1)                          # Creating a new column \"Total\". Values in this column are computed by summing up the values along each row (axis=1).\n",
        "\n",
        "raord=regt['Total'].sort_values(ascending=False)        # sorting the values of the \"Total\" column of the transpose DataFrame \"regt\" in descending order (high to low).\n",
        "raord"
      ],
      "metadata": {
        "id": "kuRf4wtuphqN"
      },
      "execution_count": null,
      "outputs": []
    },
    {
      "cell_type": "code",
      "source": [
        "# Chart - 6 visualization code\n",
        "raord.plot(kind=\"bar\",color=\"red\", figsize=(15,6))\n",
        "plt.title(\"Total Number of Attacks in each Region from 1970-2017\")\n",
        "plt.xlabel(\"Region\")\n",
        "plt.ylabel(\"Number of Attacks\")\n",
        "plt.show()"
      ],
      "metadata": {
        "id": "pTUowRRNJYpV"
      },
      "execution_count": null,
      "outputs": []
    },
    {
      "cell_type": "markdown",
      "source": [
        "##### 1. Why did you pick the specific chart?"
      ],
      "metadata": {
        "id": "bbFf2-_FphqN"
      }
    },
    {
      "cell_type": "markdown",
      "source": [
        "Bar charts prove effective when the objective is to easily compare the total number of Terrorist attacks in different regions across different years. The length of the bars serves as a clear visual indicator, facilitating straightforward comparisons."
      ],
      "metadata": {
        "id": "loh7H2nzphqN"
      }
    },
    {
      "cell_type": "markdown",
      "source": [
        "##### 2. What is/are the insight(s) found from the chart?"
      ],
      "metadata": {
        "id": "_ouA3fa0phqN"
      }
    },
    {
      "cell_type": "markdown",
      "source": [
        "* \"Middle East & North Africa\" suffered the Most number of Terrorist attacks.\n",
        "*\"Australasia & Oceania\" has the Least number of Terrorist attacks"
      ],
      "metadata": {
        "id": "VECbqPI7phqN"
      }
    },
    {
      "cell_type": "markdown",
      "source": [
        "##### 3. Will the gained insights help creating a positive business impact?\n",
        "Are there any insights that lead to negative growth? Justify with specific reason."
      ],
      "metadata": {
        "id": "Seke61FWphqN"
      }
    },
    {
      "cell_type": "markdown",
      "source": [
        "***Positive Impact***: Industries related to security technologies, risk assessment tools, and crisis management solutions may find increased demand in regions facing higher terrorism risks. Businesses in these sectors may explore opportunities to provide innovative solutions to address security challenges\n",
        "\n",
        "***Positive Impact***: Knowledge about the regions with lower incidence of terrorism, such as Australia and Oceania, can inform market expansion strategies. Businesses may consider these regions as relatively safer environments for investment and market entry.\n",
        "\n",
        "***Negative Impact***: Insights about regions with higher terrorism risks can impact insurance and financial planning. Businesses operating in high-risk areas may face higher insurance premiums, and financial planning may need to account for potential disruptions due to security incidents."
      ],
      "metadata": {
        "id": "DW4_bGpfphqN"
      }
    },
    {
      "cell_type": "markdown",
      "source": [
        "#### Chart - 7"
      ],
      "metadata": {
        "id": "PIIx-8_IphqN"
      }
    },
    {
      "cell_type": "markdown",
      "source": [
        "### ***c) Total Casualties (Killed + Wounded) in each Region***"
      ],
      "metadata": {
        "id": "Jgas6kPFKkto"
      }
    },
    {
      "cell_type": "code",
      "source": [
        "rc=df[[\"Region\",\"Casualty\"]].groupby(\"Region\").sum().sort_values(by=\"Casualty\",ascending=False)\n",
        "rc"
      ],
      "metadata": {
        "id": "M7y4OnnuKv2o"
      },
      "execution_count": null,
      "outputs": []
    },
    {
      "cell_type": "code",
      "source": [
        "# Chart - 7 visualization code\n",
        "rc.plot(kind=\"bar\",color=\"red\",figsize=(15,6))\n",
        "plt.title(\"Region wise Casualties\",fontsize=13)\n",
        "plt.xlabel(\"Regions\",fontsize=13)\n",
        "plt.xticks(fontsize=12)\n",
        "plt.ylabel(\"Number of Casualties\",fontsize=13)\n",
        "plt.show()"
      ],
      "metadata": {
        "id": "lqAIGUfyphqO"
      },
      "execution_count": null,
      "outputs": []
    },
    {
      "cell_type": "markdown",
      "source": [
        "##### 1. Why did you pick the specific chart?"
      ],
      "metadata": {
        "id": "t27r6nlMphqO"
      }
    },
    {
      "cell_type": "markdown",
      "source": [
        "Bar charts prove effective when the objective is to easily compare the total number of Casualties in different regions. The length of the bars serves as a clear visual indicator, facilitating straightforward comparisons."
      ],
      "metadata": {
        "id": "iv6ro40sphqO"
      }
    },
    {
      "cell_type": "markdown",
      "source": [
        "##### 2. What is/are the insight(s) found from the chart?"
      ],
      "metadata": {
        "id": "r2jJGEOYphqO"
      }
    },
    {
      "cell_type": "markdown",
      "source": [
        "* \"Middle East & North Africa\" suffered the Most number of Casualties.\n",
        "*\"Australasia & Oceania\" has the Least number of Casualties."
      ],
      "metadata": {
        "id": "Po6ZPi4hphqO"
      }
    },
    {
      "cell_type": "markdown",
      "source": [
        "##### 3. Will the gained insights help creating a positive business impact?\n",
        "Are there any insights that lead to negative growth? Justify with specific reason."
      ],
      "metadata": {
        "id": "b0JNsNcRphqO"
      }
    },
    {
      "cell_type": "markdown",
      "source": [
        "***Positive Impact***: Regions with lower casualties (like \"Australasia & Oceania\") may be considered safer for investments and business operations. Companies might find these areas attractive for expansion, leading to potential economic growth.                                                                    \n",
        "***Negative Impact***: Higher casualties in a region can indicate political instability, conflicts, or social unrest. These factors can negatively impact the business environment, leading to market uncertainty and potential disruptions"
      ],
      "metadata": {
        "id": "xvSq8iUTphqO"
      }
    },
    {
      "cell_type": "markdown",
      "source": [
        "#### Chart - 8"
      ],
      "metadata": {
        "id": "BZR9WyysphqO"
      }
    },
    {
      "cell_type": "markdown",
      "source": [
        "### ***d) Killed in each Region***"
      ],
      "metadata": {
        "id": "VNfIu7dpLwf5"
      }
    },
    {
      "cell_type": "code",
      "source": [
        "rk=df[['Killed','Region']].groupby(\"Region\").sum().sort_values(by='Killed', ascending=False)\n",
        "rk"
      ],
      "metadata": {
        "id": "g9N_7z4eL_nA"
      },
      "execution_count": null,
      "outputs": []
    },
    {
      "cell_type": "markdown",
      "source": [
        "### ***e) Wounded in each Region***"
      ],
      "metadata": {
        "id": "8oNrD_eVMFmg"
      }
    },
    {
      "cell_type": "code",
      "source": [
        "rw=df[[\"Region\",\"Wounded\"]].groupby(\"Region\").sum().sort_values(by=\"Wounded\",ascending=False)\n",
        "rw"
      ],
      "metadata": {
        "id": "uTAuv-ktMM-8"
      },
      "execution_count": null,
      "outputs": []
    },
    {
      "cell_type": "code",
      "source": [
        "# Chart - 8 visualization code\n",
        "fig=plt.figure()                       # Creates a new figure\n",
        "ax0=fig.add_subplot(1,2,1)             # Adds the first subplot to the figure. This subplot is positioned in the first column.\n",
        "ax1=fig.add_subplot(1,2,2)             # Adds the second subplot to the figure. This subplot is positioned in the second column.\n",
        "\n",
        "#Killed\n",
        "rk.plot(kind=\"bar\",color=\"red\",figsize=(15,6),ax=ax0)\n",
        "ax0.set_title(\"People Killed in each Region\")\n",
        "ax0.set_xlabel(\"Regions\")\n",
        "ax0.set_ylabel(\"Number of People Killed\")\n",
        "\n",
        "#Wounded\n",
        "rw.plot(kind=\"bar\",color=\"red\",figsize=(15,6),ax=ax1)\n",
        "ax1.set_title(\"People Wounded in each Region\")\n",
        "ax1.set_xlabel(\"Regions\")\n",
        "ax1.set_ylabel(\"Number of People Wounded\")\n",
        "\n",
        "plt.show()"
      ],
      "metadata": {
        "id": "TdPTWpAVphqO"
      },
      "execution_count": null,
      "outputs": []
    },
    {
      "cell_type": "markdown",
      "source": [
        "##### 1. Why did you pick the specific chart?"
      ],
      "metadata": {
        "id": "jj7wYXLtphqO"
      }
    },
    {
      "cell_type": "markdown",
      "source": [
        "Bar charts are useful when we want to compare the number of people killed and Wounded across different regions easily. The length of the bars provides a clear visual representation of the quantity."
      ],
      "metadata": {
        "id": "Ob8u6rCTphqO"
      }
    },
    {
      "cell_type": "markdown",
      "source": [
        "##### 2. What is/are the insight(s) found from the chart?"
      ],
      "metadata": {
        "id": "eZrbJ2SmphqO"
      }
    },
    {
      "cell_type": "markdown",
      "source": [
        "* Most number of people from \"Middle East & North Africa\" are either Killed or wounded.\n",
        "* Least number of people from \"Australia and Oceania\" are Killed or wounded."
      ],
      "metadata": {
        "id": "mZtgC_hjphqO"
      }
    },
    {
      "cell_type": "markdown",
      "source": [
        "##### 3. Will the gained insights help creating a positive business impact?\n",
        "Are there any insights that lead to negative growth? Justify with specific reason."
      ],
      "metadata": {
        "id": "rFu4xreNphqO"
      }
    },
    {
      "cell_type": "markdown",
      "source": [
        "Security Measures for \"Middle East & North Africa\":\n",
        "\n",
        "*   Increase the presence of security personnel and deploy advanced surveillance technologies.\n",
        "*   Support and promote diplomatic efforts for conflict resolution to address the root causes of violence in the region.\n",
        "\n",
        "Healthcare Measures for \"Middle East & North Africa\":\n",
        "\n",
        "*   Strengthen emergency medical services to ensure rapid response and effective care for those injured in incidents.\n",
        "*   Improve and expand trauma care facilities to provide specialized medical treatment for individuals with severe injuries."
      ],
      "metadata": {
        "id": "ey_0qi68phqO"
      }
    },
    {
      "cell_type": "markdown",
      "source": [
        "## ***3. Country wise Attacks - Top 10***"
      ],
      "metadata": {
        "id": "XZok-EWSNspd"
      }
    },
    {
      "cell_type": "markdown",
      "source": [
        "### ***a) Number of Attacks in each Country***"
      ],
      "metadata": {
        "id": "krTWSn1yNwnP"
      }
    },
    {
      "cell_type": "code",
      "source": [
        "ct=df[\"Country\"].value_counts().head(10)\n",
        "ct"
      ],
      "metadata": {
        "id": "XBkID3sBN0zR"
      },
      "execution_count": null,
      "outputs": []
    },
    {
      "cell_type": "markdown",
      "source": [
        "#### Chart - 9"
      ],
      "metadata": {
        "id": "YJ55k-q6phqO"
      }
    },
    {
      "cell_type": "code",
      "source": [
        "# Chart - 9 visualization code\n",
        "plt.figure(figsize=(15, 6))\n",
        "ct.plot(kind=\"pie\", autopct='%1.1f%%', colors=[\"red\", \"orange\", \"yellow\", \"green\", \"blue\", \"purple\", \"brown\", \"pink\", \"gray\", \"cyan\"])\n",
        "\n",
        "# Adding title and labels\n",
        "plt.title(\"Country-wise Attacks - Top 10\", fontsize=13)\n",
        "plt.xlabel(\"Countries\", fontsize=13)\n",
        "plt.ylabel(\"\")  # Empty ylabel for better aesthetics\n",
        "\n",
        "# Display the chart\n",
        "plt.show()"
      ],
      "metadata": {
        "id": "B2aS4O1ophqO"
      },
      "execution_count": null,
      "outputs": []
    },
    {
      "cell_type": "markdown",
      "source": [
        "##### 1. Why did you pick the specific chart?"
      ],
      "metadata": {
        "id": "gCFgpxoyphqP"
      }
    },
    {
      "cell_type": "markdown",
      "source": [
        "Pie charts are good for emphasizing dominant or significant categories. In this case, it helps to highlight the countries with the highest number of attacks."
      ],
      "metadata": {
        "id": "TVxDimi2phqP"
      }
    },
    {
      "cell_type": "markdown",
      "source": [
        "##### 2. What is/are the insight(s) found from the chart?"
      ],
      "metadata": {
        "id": "OVtJsKN_phqQ"
      }
    },
    {
      "cell_type": "markdown",
      "source": [
        "*   Most number of terrorists attacks in the whole world is suffered by : Iraq.\n",
        "*   India is in the 4th position among the top 10 countries heavily affected by Terrorist Attacks."
      ],
      "metadata": {
        "id": "ngGi97qjphqQ"
      }
    },
    {
      "cell_type": "markdown",
      "source": [
        "##### 3. Will the gained insights help creating a positive business impact?\n",
        "Are there any insights that lead to negative growth? Justify with specific reason."
      ],
      "metadata": {
        "id": "lssrdh5qphqQ"
      }
    },
    {
      "cell_type": "markdown",
      "source": [
        "***Positive Impact***: There is an opportunity for businesses specializing in security solutions, including technology-based security systems, risk assessment services, and consulting. Companies offering services to enhance security measures may find increased demand in regions prone to terrorist activities.\n",
        "\n",
        "***Negative Impact***: Countries with a high risk of terrorism may experience a decline in tourism. Businesses in the hospitality and tourism sectors could be adversely affected, leading to decreased revenue and potential job losses"
      ],
      "metadata": {
        "id": "tBpY5ekJphqQ"
      }
    },
    {
      "cell_type": "markdown",
      "source": [
        "#### Chart - 10"
      ],
      "metadata": {
        "id": "U2RJ9gkRphqQ"
      }
    },
    {
      "cell_type": "markdown",
      "source": [
        "### ***b) Total Casualties (Killed + Wounded) in each Country***"
      ],
      "metadata": {
        "id": "5Dht46bIOZyP"
      }
    },
    {
      "cell_type": "code",
      "source": [
        "cnc=df[[\"Country\",\"Casualty\"]].groupby(\"Country\").sum().sort_values(by=\"Casualty\",ascending=False)\n",
        "cnc.head(10)"
      ],
      "metadata": {
        "id": "ic3g-6g5Oo5o"
      },
      "execution_count": null,
      "outputs": []
    },
    {
      "cell_type": "code",
      "source": [
        "# Chart - 10 visualization code\n",
        "cnc[:10].plot(kind=\"bar\",color=\"red\",figsize=(15,6))             # selects the 1st 10 countries\n",
        "plt.title(\"Top 10 Country wise Casualties\",fontsize=13)\n",
        "plt.xlabel(\"Countries\",fontsize=13)\n",
        "plt.xticks(fontsize=12)\n",
        "plt.ylabel(\"Number of Casualties\",fontsize=13)\n",
        "plt.show()"
      ],
      "metadata": {
        "id": "GM7a4YP4phqQ"
      },
      "execution_count": null,
      "outputs": []
    },
    {
      "cell_type": "markdown",
      "source": [
        "##### 1. Why did you pick the specific chart?"
      ],
      "metadata": {
        "id": "1M8mcRywphqQ"
      }
    },
    {
      "cell_type": "markdown",
      "source": [
        "Bar charts are useful when we want to compare the total number of casualities in different countries easily. The length of the bars provides a clear visual representation of the quantity."
      ],
      "metadata": {
        "id": "8agQvks0phqQ"
      }
    },
    {
      "cell_type": "markdown",
      "source": [
        "##### 2. What is/are the insight(s) found from the chart?"
      ],
      "metadata": {
        "id": "tgIPom80phqQ"
      }
    },
    {
      "cell_type": "markdown",
      "source": [
        "*   Iraq has the highest number of Casualties(killed + wounded) due to terrorist\n",
        "attacks.\n",
        "*   India has the 4th highest Casualties(Killed + Wounded) due to terrorists attacks"
      ],
      "metadata": {
        "id": "Qp13pnNzphqQ"
      }
    },
    {
      "cell_type": "markdown",
      "source": [
        "##### 3. Will the gained insights help creating a positive business impact?\n",
        "Are there any insights that lead to negative growth? Justify with specific reason."
      ],
      "metadata": {
        "id": "JMzcOPDDphqR"
      }
    },
    {
      "cell_type": "markdown",
      "source": [
        "***Positive Impact:*** Businesses engaged in humanitarian aid and support services may find opportunities to contribute positively in regions with high casualties. Initiatives focused on community development, healthcare, and relief efforts can make a positive impact.\n",
        "\n",
        "***Negative Impact***: Businesses operating in regions with a high number of casualties may face reputational risks. Negative associations with violence and instability can impact consumer perception and trust in the brand."
      ],
      "metadata": {
        "id": "R4Ka1PC2phqR"
      }
    },
    {
      "cell_type": "markdown",
      "source": [
        "#### Chart - 11"
      ],
      "metadata": {
        "id": "x-EpHcCOp1ci"
      }
    },
    {
      "cell_type": "markdown",
      "source": [
        "### c) ***Killed in each country***"
      ],
      "metadata": {
        "id": "8nd_xidAQCdv"
      }
    },
    {
      "cell_type": "code",
      "source": [
        "cnk=df[['Killed', 'Country']].groupby('Country').sum().sort_values(by='Killed', ascending=False)\n",
        "cnk.head(10)"
      ],
      "metadata": {
        "id": "gCkBd-iLQGGW"
      },
      "execution_count": null,
      "outputs": []
    },
    {
      "cell_type": "markdown",
      "source": [
        "### ***d) Wounded in each Country***"
      ],
      "metadata": {
        "id": "rAf8fSSVQMJS"
      }
    },
    {
      "cell_type": "code",
      "source": [
        "cnw=df[[\"Country\",\"Wounded\"]].groupby(\"Country\").sum().sort_values(by=\"Wounded\",ascending=False)\n",
        "cnw.head(10)"
      ],
      "metadata": {
        "id": "y85Ip69JQRYL"
      },
      "execution_count": null,
      "outputs": []
    },
    {
      "cell_type": "code",
      "source": [
        "# Chart - 11 visualization code\n",
        "fig=plt.figure()\n",
        "ax0=fig.add_subplot(1,2,1)\n",
        "ax1=fig.add_subplot(1,2,2)\n",
        "\n",
        "#Killed\n",
        "cnk[:10].plot(kind=\"bar\",color=\"red\",figsize=(15,6),ax=ax0)\n",
        "ax0.set_title(\"People Killed in top-10 terrorist affected Country\")\n",
        "ax0.set_xlabel(\"Countries\")\n",
        "ax0.set_ylabel(\"Number of People Killed\")\n",
        "\n",
        "#Wounded\n",
        "cnw[:10].plot(kind=\"bar\",color=\"red\",figsize=(15,6),ax=ax1)\n",
        "ax1.set_title(\"People Wounded in top-10 terrorist affected Country\")\n",
        "ax1.set_xlabel(\"Countries\")\n",
        "ax1.set_ylabel(\"Number of People Wounded\")\n",
        "\n",
        "plt.show()"
      ],
      "metadata": {
        "id": "mAQTIvtqp1cj"
      },
      "execution_count": null,
      "outputs": []
    },
    {
      "cell_type": "markdown",
      "source": [
        "##### 1. Why did you pick the specific chart?"
      ],
      "metadata": {
        "id": "X_VqEhTip1ck"
      }
    },
    {
      "cell_type": "markdown",
      "source": [
        "Bar charts are useful when we want to compare the total number of Killed and Wounded people in different countries easily. The length of the bars provides a clear visual representation of the quantity."
      ],
      "metadata": {
        "id": "-vsMzt_np1ck"
      }
    },
    {
      "cell_type": "markdown",
      "source": [
        "##### 2. What is/are the insight(s) found from the chart?"
      ],
      "metadata": {
        "id": "8zGJKyg5p1ck"
      }
    },
    {
      "cell_type": "markdown",
      "source": [
        "*   Most number of people killed are from: Iraq.\n",
        "*   Least number of people Killed are from: El salvador.\n",
        "\n",
        "\n",
        "\n",
        "*   Most number of people Wounded are from: Iraq\n",
        "*   Least number of people Wounded are from: Columbia."
      ],
      "metadata": {
        "id": "ZYdMsrqVp1ck"
      }
    },
    {
      "cell_type": "markdown",
      "source": [
        "##### 3. Will the gained insights help creating a positive business impact?\n",
        "Are there any insights that lead to negative growth? Justify with specific reason."
      ],
      "metadata": {
        "id": "PVzmfK_Ep1ck"
      }
    },
    {
      "cell_type": "markdown",
      "source": [
        "***Positive Impact***: Governments in countries with high casualties may invest in security infrastructure and services. Businesses operating in the defense and security sector might find opportunities for government contracts to address security concerns."
      ],
      "metadata": {
        "id": "druuKYZpp1ck"
      }
    },
    {
      "cell_type": "markdown",
      "source": [
        "## ***4. City wise Attacks - Top 10***"
      ],
      "metadata": {
        "id": "E6cAguycQ8Zn"
      }
    },
    {
      "cell_type": "markdown",
      "source": [
        "### ***a) Number of Attacks in each city***"
      ],
      "metadata": {
        "id": "XsvHWJkMRBjz"
      }
    },
    {
      "cell_type": "code",
      "source": [
        "city=df[\"City\"].value_counts()[1:11] # Slices the Series to include only the elements from index 1 to index 10. It selects the top 10 cities with the highest counts.\n",
        "city"
      ],
      "metadata": {
        "id": "JtufRbrpRGYg"
      },
      "execution_count": null,
      "outputs": []
    },
    {
      "cell_type": "markdown",
      "source": [
        "#### Chart - 12"
      ],
      "metadata": {
        "id": "n3dbpmDWp1ck"
      }
    },
    {
      "cell_type": "code",
      "source": [
        "# Chart - 12 visualization code\n",
        "plt.figure(figsize=(15, 6))\n",
        "city.plot(kind=\"pie\", autopct='%1.1f%%', colors=[\"red\", \"orange\", \"yellow\", \"green\", \"blue\", \"purple\", \"brown\", \"pink\", \"gray\", \"cyan\"])\n",
        "\n",
        "# Adding title and labels\n",
        "plt.title(\"City-wise Attacks - Top 10\", fontsize=13)\n",
        "plt.xlabel(\"Cities\", fontsize=13)\n",
        "plt.ylabel(\"\")  # Empty ylabel for better aesthetics\n",
        "\n",
        "# Display the chart\n",
        "plt.show()"
      ],
      "metadata": {
        "id": "bwevp1tKp1ck"
      },
      "execution_count": null,
      "outputs": []
    },
    {
      "cell_type": "markdown",
      "source": [
        "##### 1. Why did you pick the specific chart?"
      ],
      "metadata": {
        "id": "ylSl6qgtp1ck"
      }
    },
    {
      "cell_type": "markdown",
      "source": [
        "Pie charts are good for emphasizing dominant or significant categories. In this case, it helps to highlight the cities with the highest number of attacks."
      ],
      "metadata": {
        "id": "m2xqNkiQp1ck"
      }
    },
    {
      "cell_type": "markdown",
      "source": [
        "##### 2. What is/are the insight(s) found from the chart?"
      ],
      "metadata": {
        "id": "ZWILFDl5p1ck"
      }
    },
    {
      "cell_type": "markdown",
      "source": [
        "*   Baghdad - capital of Iraq suffered the highest number of terrorist attacks\n",
        "\n",
        "*   Athens - capital of Greece suffered the least number of terrorist attacks."
      ],
      "metadata": {
        "id": "x-lUsV2mp1ck"
      }
    },
    {
      "cell_type": "markdown",
      "source": [
        "##### 3. Will the gained insights help creating a positive business impact?\n",
        "Are there any insights that lead to negative growth? Justify with specific reason."
      ],
      "metadata": {
        "id": "M7G43BXep1ck"
      }
    },
    {
      "cell_type": "markdown",
      "source": [
        "***Positive Impact***: Companies providing emergency response and recovery services might find an increased demand for their services in areas prone to terrorist attacks. This could lead to positive business growth opportunities.\n",
        "\n",
        "***Negative Impact***: Frequent terrorist attacks in a region, especially the capital city, can have a significant negative impact on the tourism and hospitality industry. Businesses in these sectors may experience reduced tourist inflow and face challenges in attracting investments."
      ],
      "metadata": {
        "id": "5wwDJXsLp1cl"
      }
    },
    {
      "cell_type": "markdown",
      "source": [
        "#### Chart - 13"
      ],
      "metadata": {
        "id": "Ag9LCva-p1cl"
      }
    },
    {
      "cell_type": "markdown",
      "source": [
        "### ***b) Total Casualties (Killed + Wounded) in each City***"
      ],
      "metadata": {
        "id": "Lu9OkuWQSZrA"
      }
    },
    {
      "cell_type": "code",
      "source": [
        "cc=df[[\"City\",\"Casualty\"]].groupby(\"City\").sum().sort_values(by=\"Casualty\",ascending=False).drop(\"Unknown\")\n",
        "cc.head(10)"
      ],
      "metadata": {
        "id": "iN7ecu3CSeXT"
      },
      "execution_count": null,
      "outputs": []
    },
    {
      "cell_type": "code",
      "source": [
        "# Chart - 13 visualization code\n",
        "cc[:10].plot(kind=\"bar\",color=\"red\",figsize=(15,6))\n",
        "plt.title(\"City wise Casualties\",fontsize=13)\n",
        "plt.xlabel(\"Cities\",fontsize=13)\n",
        "plt.xticks(fontsize=12)\n",
        "plt.ylabel(\"Number of Casualties\",fontsize=13)\n",
        "plt.show()"
      ],
      "metadata": {
        "id": "EUfxeq9-p1cl"
      },
      "execution_count": null,
      "outputs": []
    },
    {
      "cell_type": "markdown",
      "source": [
        "##### 1. Why did you pick the specific chart?"
      ],
      "metadata": {
        "id": "E6MkPsBcp1cl"
      }
    },
    {
      "cell_type": "markdown",
      "source": [
        "Bar charts are useful when we want to compare the Total Casualties (Killed + Wounded) in each City easily. The length of the bars provides a clear visual representation of the quantity."
      ],
      "metadata": {
        "id": "V22bRsFWp1cl"
      }
    },
    {
      "cell_type": "markdown",
      "source": [
        "##### 2. What is/are the insight(s) found from the chart?"
      ],
      "metadata": {
        "id": "2cELzS2fp1cl"
      }
    },
    {
      "cell_type": "markdown",
      "source": [
        "*   The highest number of Casulaties(killed + wounded) are from Baghdad followed by New York City.\n",
        "*   The least number of Casulaties(Killed + wounded) are from Aleppo(Syria)"
      ],
      "metadata": {
        "id": "ozQPc2_Ip1cl"
      }
    },
    {
      "cell_type": "markdown",
      "source": [
        "##### 3. Will the gained insights help creating a positive business impact?\n",
        "Are there any insights that lead to negative growth? Justify with specific reason."
      ],
      "metadata": {
        "id": "3MPXvC8up1cl"
      }
    },
    {
      "cell_type": "markdown",
      "source": [
        "***Positive Impact***: In cities with high casualties, there may be opportunities for businesses involved in infrastructure development and reconstruction. Government initiatives and private investments might lead to projects aimed at improving safety and resilience.\n",
        "\n",
        "***Negative Impact***: Local businesses in cities with high casualties may face challenges related to reputation damage. Consumer perceptions of safety could affect the growth and success of businesses in these regions."
      ],
      "metadata": {
        "id": "GL8l1tdLp1cl"
      }
    },
    {
      "cell_type": "markdown",
      "source": [
        "#### Chart - 14"
      ],
      "metadata": {
        "id": "NC_X3p0fY2L0"
      }
    },
    {
      "cell_type": "markdown",
      "source": [
        "### ***c) Killed in each City***"
      ],
      "metadata": {
        "id": "VqRAGA5UTRx9"
      }
    },
    {
      "cell_type": "code",
      "source": [
        "ck=df[[\"City\",\"Killed\"]].groupby(\"City\").sum().sort_values(by=\"Killed\",ascending=False).drop(\"Unknown\")\n",
        "ck.head(10)"
      ],
      "metadata": {
        "id": "ZGLhdkzwTWtj"
      },
      "execution_count": null,
      "outputs": []
    },
    {
      "cell_type": "markdown",
      "source": [
        "### ***d) Wounded in each City***"
      ],
      "metadata": {
        "id": "k22bBr_vTpkO"
      }
    },
    {
      "cell_type": "code",
      "source": [
        "cw=df[[\"City\",\"Wounded\"]].groupby(\"City\").sum().sort_values(by=\"Wounded\",ascending=False).drop(\"Unknown\")\n",
        "cw.head(10)"
      ],
      "metadata": {
        "id": "RlDcxKsyTwbh"
      },
      "execution_count": null,
      "outputs": []
    },
    {
      "cell_type": "code",
      "source": [
        "# Chart - 14 visualization code\n",
        "fig=plt.figure()\n",
        "ax0=fig.add_subplot(1,2,1)\n",
        "ax1=fig.add_subplot(1,2,2)\n",
        "\n",
        "#Killed\n",
        "ck[:10].plot(kind=\"bar\",color=\"red\",figsize=(15,6),ax=ax0)\n",
        "ax0.set_title(\"People Killed in each City\")\n",
        "ax0.set_xlabel(\"Cities\")\n",
        "ax0.set_ylabel(\"Number of People Killed\")\n",
        "\n",
        "#Wounded\n",
        "cw[:10].plot(kind=\"bar\",color=\"red\",figsize=(15,6),ax=ax1)\n",
        "ax1.set_title(\"People Wounded in each City\")\n",
        "ax1.set_xlabel(\"Cities\")\n",
        "ax1.set_ylabel(\"Number of People Wounded\")\n",
        "\n",
        "plt.show()"
      ],
      "metadata": {
        "id": "wNpTwo4UT9eY"
      },
      "execution_count": null,
      "outputs": []
    },
    {
      "cell_type": "markdown",
      "source": [
        "##### 1. Why did you pick the specific chart?"
      ],
      "metadata": {
        "id": "UV0SzAkaZNRQ"
      }
    },
    {
      "cell_type": "markdown",
      "source": [
        "Bar charts are useful when we want to compare the Total number of people Killed and wounded in each City easily. The length of the bars provides a clear visual representation of the quantity."
      ],
      "metadata": {
        "id": "DVPuT8LYZNRQ"
      }
    },
    {
      "cell_type": "markdown",
      "source": [
        "##### 2. What is/are the insight(s) found from the chart?"
      ],
      "metadata": {
        "id": "YPEH6qLeZNRQ"
      }
    },
    {
      "cell_type": "markdown",
      "source": [
        "*   Baghdad has the highest number of Killed and Wounded rates.\n",
        "*   Aleppo and Mogadishu has the lowest number of Killed and Wounded rates respectively."
      ],
      "metadata": {
        "id": "bfSqtnDqZNRR"
      }
    },
    {
      "cell_type": "markdown",
      "source": [
        "3. Will the gained insights help creating a positive business impact?\n",
        "\n",
        "\n",
        "Are there any insights that lead to negative growth? Justify with specific reason."
      ],
      "metadata": {
        "id": "h-aquMvmXFbX"
      }
    },
    {
      "cell_type": "markdown",
      "source": [
        "***Positive Impact***: Cities with high casualties may require enhanced emergency medical services and healthcare infrastructure. Businesses involved in healthcare, trauma care, and medical equipment manufacturing may find growth opportunities.\n",
        "\n",
        "***Negative Impact***: High casualty rates can deter tourism and impact the hospitality industry. Businesses in tourism, hotels, and related services may experience negative growth due to reduced visitor numbers and perceptions of insecurity."
      ],
      "metadata": {
        "id": "1Ncampx2XHkB"
      }
    },
    {
      "cell_type": "markdown",
      "source": [
        "## ***5. Terrorist Group wise Attacks - Top 10***"
      ],
      "metadata": {
        "id": "9dTxa6j5XVbm"
      }
    },
    {
      "cell_type": "markdown",
      "source": [
        "### ***a) Number of Attacks by each Group***"
      ],
      "metadata": {
        "id": "zWVFCbgwXbkF"
      }
    },
    {
      "cell_type": "code",
      "source": [
        "grp=df[\"Group Name\"].value_counts()[1:10]\n",
        "grp"
      ],
      "metadata": {
        "id": "_34ZP6heXfBC"
      },
      "execution_count": null,
      "outputs": []
    },
    {
      "cell_type": "markdown",
      "source": [
        "#### Chart - 15\n"
      ],
      "metadata": {
        "id": "q29F0dvdveiT"
      }
    },
    {
      "cell_type": "code",
      "source": [
        "# Chart - 15 visualization code\n",
        "plt.figure(figsize=(15, 6))\n",
        "grp.plot(kind=\"pie\", autopct='%1.1f%%', colors=[\"red\", \"orange\", \"yellow\", \"green\", \"blue\", \"purple\", \"brown\", \"pink\", \"gray\", \"cyan\"])\n",
        "\n",
        "# Adding title and labels\n",
        "plt.title(\"Terrorist Group-wise Attacks - Top 10\", fontsize=13)\n",
        "plt.xlabel(\"Terrorists groups\", fontsize=13)\n",
        "plt.ylabel(\"\")  # Empty ylabel for better aesthetics\n",
        "\n",
        "# Display the chart\n",
        "plt.show()"
      ],
      "metadata": {
        "id": "o58-TEIhveiU"
      },
      "execution_count": null,
      "outputs": []
    },
    {
      "cell_type": "markdown",
      "source": [
        "##### 1. Why did you pick the specific chart?"
      ],
      "metadata": {
        "id": "EXh0U9oCveiU"
      }
    },
    {
      "cell_type": "markdown",
      "source": [
        "Pie charts are good for emphasizing dominant or significant categories. In this case, it helps to highlight the Terrorists groups carrying out the highest number of attacks."
      ],
      "metadata": {
        "id": "eMmPjTByveiU"
      }
    },
    {
      "cell_type": "markdown",
      "source": [
        "##### 2. What is/are the insight(s) found from the chart?"
      ],
      "metadata": {
        "id": "22aHeOlLveiV"
      }
    },
    {
      "cell_type": "markdown",
      "source": [
        "*   Most number of attacks are carried out by: Taliban.\n",
        "*   Least number of attacks are carried out by: Boko Haram."
      ],
      "metadata": {
        "id": "uPQ8RGwHveiV"
      }
    },
    {
      "cell_type": "markdown",
      "source": [
        "### Chart - 16"
      ],
      "metadata": {
        "id": "lolwSVvNYdnG"
      }
    },
    {
      "cell_type": "markdown",
      "source": [
        "### ***b) Total Casualties(Killed + Wounded) by each Group***"
      ],
      "metadata": {
        "id": "vHybJjA0YhTq"
      }
    },
    {
      "cell_type": "code",
      "source": [
        "gc=df[[\"Group Name\",\"Casualty\"]].groupby(\"Group Name\").sum().sort_values(by=\"Casualty\",ascending=False).drop(\"Unknown\")\n",
        "gc.head(10)"
      ],
      "metadata": {
        "id": "Bl4iyn3VYl0w"
      },
      "execution_count": null,
      "outputs": []
    },
    {
      "cell_type": "code",
      "source": [
        "# Chart - 16 visualization code\n",
        "gc.head(10).plot(kind=\"bar\",color=\"red\",figsize=(15,6))\n",
        "plt.title(\"Casualties by each Group\",fontsize=13)\n",
        "plt.xlabel(\"Terrorist Groups\",fontsize=13)\n",
        "plt.xticks(fontsize=12)\n",
        "plt.ylabel(\"Number of Casualties\",fontsize=13)\n",
        "plt.show()"
      ],
      "metadata": {
        "id": "ehGsHWGwYr6Y"
      },
      "execution_count": null,
      "outputs": []
    },
    {
      "cell_type": "markdown",
      "source": [
        "##### 1. Why did you pick the specific chart?"
      ],
      "metadata": {
        "id": "1W3OUgccYyyO"
      }
    },
    {
      "cell_type": "markdown",
      "source": [
        "Bar charts are useful when we want to compare the Total Casualities(Killed + Wounded) by Terrorist Groups easily. The length of the bars provides a clear visual representation of the quantity."
      ],
      "metadata": {
        "id": "HD4pp7SkY43g"
      }
    },
    {
      "cell_type": "markdown",
      "source": [
        "##### 2. What is/are the insight(s) found from the chart?"
      ],
      "metadata": {
        "id": "YF_1PWbaY81U"
      }
    },
    {
      "cell_type": "markdown",
      "source": [
        "*   Highest number of Casualities(Killed + Wounded) are caused by : Islamic State of Iraq and the Levant(ISIL)\n",
        "*  Highest number of Casualities(Killed + Wounded) are caused by : Farabundo Marti National Liberation Front(FMLN)."
      ],
      "metadata": {
        "id": "CJEUs8eQZBD0"
      }
    },
    {
      "cell_type": "markdown",
      "source": [
        "### Chart - 17"
      ],
      "metadata": {
        "id": "BMr1KSveZJ22"
      }
    },
    {
      "cell_type": "markdown",
      "source": [
        "### ***c) Killed by each Group***"
      ],
      "metadata": {
        "id": "bBEvL_e7ZORW"
      }
    },
    {
      "cell_type": "code",
      "source": [
        "gk=df[[\"Group Name\",\"Killed\"]].groupby(\"Group Name\").sum().sort_values(by=\"Killed\",ascending=False).drop(\"Unknown\")\n",
        "gk.head(10)"
      ],
      "metadata": {
        "id": "smHp-pjoZRo_"
      },
      "execution_count": null,
      "outputs": []
    },
    {
      "cell_type": "markdown",
      "source": [
        "### ***d) Wounded by each Group***"
      ],
      "metadata": {
        "id": "wUb568h7ZWrV"
      }
    },
    {
      "cell_type": "code",
      "source": [
        "gw=df[[\"Group Name\",\"Wounded\"]].groupby(\"Group Name\").sum().sort_values(by=\"Wounded\",ascending=False).drop(\"Unknown\")\n",
        "gw.head(10)"
      ],
      "metadata": {
        "id": "Kox5x897Za5-"
      },
      "execution_count": null,
      "outputs": []
    },
    {
      "cell_type": "code",
      "source": [
        "# Chart - 17 visualization code\n",
        "fig=plt.figure()\n",
        "ax0=fig.add_subplot(1,2,1)\n",
        "ax1=fig.add_subplot(1,2,2)\n",
        "\n",
        "#Killed\n",
        "gk[:10].plot(kind=\"bar\",color=\"red\",figsize=(15,6),ax=ax0)\n",
        "ax0.set_title(\"People Killed by each Group\")\n",
        "ax0.set_xlabel(\"Terrorist Groups\")\n",
        "ax0.set_ylabel(\"Number of people Killed\")\n",
        "\n",
        "#Wounded\n",
        "gw[:10].plot(kind=\"bar\",color=\"red\",figsize=(15,6),ax=ax1)\n",
        "ax1.set_title(\"People Wounded by each Group\")\n",
        "ax1.set_xlabel(\"Terrorist Groups\")\n",
        "ax1.set_ylabel(\"Number of people Wounded\")\n",
        "plt.show()"
      ],
      "metadata": {
        "id": "7OxRrqghZgAj"
      },
      "execution_count": null,
      "outputs": []
    },
    {
      "cell_type": "markdown",
      "source": [
        "##### 1. Why did you pick the specific chart?"
      ],
      "metadata": {
        "id": "9uYbaSPlZmbe"
      }
    },
    {
      "cell_type": "markdown",
      "source": [
        "Bar charts are useful when we want to compare the Total number of people Killed and Wounded by Terrorist Groups easily. The length of the bars provides a clear visual representation of the quantity"
      ],
      "metadata": {
        "id": "_xmcb_lIZsEF"
      }
    },
    {
      "cell_type": "markdown",
      "source": [
        "##### 2. What is/are the insight(s) found from the chart?"
      ],
      "metadata": {
        "id": "c4gnSBERZwz4"
      }
    },
    {
      "cell_type": "markdown",
      "source": [
        "*   Highest number of People killed and Wounded by : Islamic State of Iraq and the Levant (ISIL)"
      ],
      "metadata": {
        "id": "HCDEr8brZyKu"
      }
    },
    {
      "cell_type": "markdown",
      "source": [
        "## ***6. Attack Type wise Attacks***"
      ],
      "metadata": {
        "id": "GLV7bnU6Z6Rj"
      }
    },
    {
      "cell_type": "markdown",
      "source": [
        "### ***a) Number of Attacks by each Attack Type***"
      ],
      "metadata": {
        "id": "y-oom-crZ9qj"
      }
    },
    {
      "cell_type": "code",
      "source": [
        "at=df[\"Attack Type\"].value_counts()\n",
        "at"
      ],
      "metadata": {
        "id": "Vn_ZvtPYaAZR"
      },
      "execution_count": null,
      "outputs": []
    },
    {
      "cell_type": "markdown",
      "source": [
        "### Chart - 18"
      ],
      "metadata": {
        "id": "-WtqEoKNaFYO"
      }
    },
    {
      "cell_type": "code",
      "source": [
        "# Chart - 18 visualization code\n",
        "at.plot(kind=\"bar\",color=\"red\",figsize=(15,6))\n",
        "plt.title(\"Types of Attacks\",fontsize=13)\n",
        "plt.xlabel(\"Attack Types\",fontsize=13)\n",
        "plt.xticks(fontsize=12)\n",
        "plt.ylabel(\"Number of Attacks\",fontsize=13)\n",
        "plt.show()"
      ],
      "metadata": {
        "id": "4sCy2kYraLig"
      },
      "execution_count": null,
      "outputs": []
    },
    {
      "cell_type": "markdown",
      "source": [
        "##### 1. Why did you pick the specific chart?"
      ],
      "metadata": {
        "id": "EoQpRlsXaQpV"
      }
    },
    {
      "cell_type": "markdown",
      "source": [
        "Bar charts are useful when we want to compare the different types of attacks  by Terrorist Groups easily. The length of the bars provides a clear visual representation of the quantity."
      ],
      "metadata": {
        "id": "9T9Rp5pNaVm_"
      }
    },
    {
      "cell_type": "markdown",
      "source": [
        "##### 2. What is/are the insight(s) found from the chart?"
      ],
      "metadata": {
        "id": "MKKq19DkaXAm"
      }
    },
    {
      "cell_type": "markdown",
      "source": [
        "*   Most Terrorists activities are carried through : Bombing.\n",
        "*   Least Terrorists activities are carried through : Hijacking."
      ],
      "metadata": {
        "id": "zajRAqNJadXV"
      }
    },
    {
      "cell_type": "markdown",
      "source": [
        "### Chart - 19"
      ],
      "metadata": {
        "id": "Byi0dA4maiE9"
      }
    },
    {
      "cell_type": "markdown",
      "source": [
        "### ***b) Total Casualties (Killed + Wounded) by each Attack Type :***"
      ],
      "metadata": {
        "id": "G-N7KB93atB-"
      }
    },
    {
      "cell_type": "code",
      "source": [
        "ac=df[[\"Attack Type\",\"Casualty\"]].groupby(\"Attack Type\").sum().sort_values(by=\"Casualty\",ascending=False)\n",
        "ac"
      ],
      "metadata": {
        "id": "CKpW_vqtawNL"
      },
      "execution_count": null,
      "outputs": []
    },
    {
      "cell_type": "code",
      "source": [
        "# Chart - 19 visualization code.\n",
        "ac.plot(kind=\"bar\",color=\"red\",figsize=(15,6))\n",
        "plt.title(\"Casualties in each Attack\",fontsize=13)\n",
        "plt.xlabel(\"Attack Types\",fontsize=13)\n",
        "plt.xticks(fontsize=12)\n",
        "plt.ylabel(\"Number of Casualties\",fontsize=13)\n",
        "plt.show()"
      ],
      "metadata": {
        "id": "xdJmQcQ3bCTu"
      },
      "execution_count": null,
      "outputs": []
    },
    {
      "cell_type": "markdown",
      "source": [
        "##### 1. Why did you pick the specific chart?"
      ],
      "metadata": {
        "id": "6kLQx0jXbJbd"
      }
    },
    {
      "cell_type": "markdown",
      "source": [
        "Bar charts are useful when we want to compare the Casulalities in different\n",
        "types of attacks by Terrorist Groups easily. The length of the bars provides a clear visual representation of the quantity."
      ],
      "metadata": {
        "id": "rBdifFzLbLjk"
      }
    },
    {
      "cell_type": "markdown",
      "source": [
        "2. What is/are the insight(s) found from the chart?"
      ],
      "metadata": {
        "id": "z5cm8Q_9baHO"
      }
    },
    {
      "cell_type": "markdown",
      "source": [
        "*   Most Casualties caused by : Bombing.\n",
        "*   Least Casualties caused by : Facility/Infrastructure Attack."
      ],
      "metadata": {
        "id": "y7-i-devbdyv"
      }
    },
    {
      "cell_type": "markdown",
      "source": [
        "### Chart - 20"
      ],
      "metadata": {
        "id": "27Yoon_hbjhP"
      }
    },
    {
      "cell_type": "markdown",
      "source": [
        "### ***c) Killed by each Attack Type***"
      ],
      "metadata": {
        "id": "EqgiikSpbn6c"
      }
    },
    {
      "cell_type": "code",
      "source": [
        "ak=df[[\"Attack Type\",\"Killed\"]].groupby(\"Attack Type\").sum().sort_values(by=\"Killed\",ascending=False)\n",
        "ak"
      ],
      "metadata": {
        "id": "yRXhEHxAbtCL"
      },
      "execution_count": null,
      "outputs": []
    },
    {
      "cell_type": "markdown",
      "source": [
        "### ***d) Wounded by each Attack Type***"
      ],
      "metadata": {
        "id": "nwf9FWwfbyCk"
      }
    },
    {
      "cell_type": "code",
      "source": [
        "aw=df[[\"Attack Type\",\"Wounded\"]].groupby(\"Attack Type\").sum().sort_values(by=\"Wounded\",ascending=False)\n",
        "aw"
      ],
      "metadata": {
        "id": "ohkjNDtmb1jz"
      },
      "execution_count": null,
      "outputs": []
    },
    {
      "cell_type": "code",
      "source": [
        "# Chart - 20 visualization code\n",
        "fig=plt.figure()\n",
        "ax0=fig.add_subplot(1,2,1)\n",
        "ax1=fig.add_subplot(1,2,2)\n",
        "\n",
        "#Killed\n",
        "ak.plot(kind=\"bar\",color=\"red\",figsize=(15,6),ax=ax0)\n",
        "ax0.set_title(\"People Killed in each Attack Type\")\n",
        "ax0.set_xlabel(\"Attack Types\")\n",
        "ax0.set_ylabel(\"Number of people Killed\")\n",
        "\n",
        "#Wounded\n",
        "aw.plot(kind=\"bar\",color=\"red\",figsize=(15,6),ax=ax1)\n",
        "ax1.set_title(\"People Wounded in each Attack Type\")\n",
        "ax1.set_xlabel(\"Attack Types\")\n",
        "ax1.set_ylabel(\"Number of people Wounded\")\n",
        "plt.show()"
      ],
      "metadata": {
        "id": "GUXWPH6Qb-Ez"
      },
      "execution_count": null,
      "outputs": []
    },
    {
      "cell_type": "markdown",
      "source": [
        "1. Why did you pick the specific chart?"
      ],
      "metadata": {
        "id": "P1rIeakEcD9r"
      }
    },
    {
      "cell_type": "markdown",
      "source": [
        "Bar charts are useful when we want to compare the Killed and Wounded people in different types of attacks by Terrorist Groups easily. The length of the bars provides a clear visual representation of the quantity."
      ],
      "metadata": {
        "id": "2bzxxiqlcF2V"
      }
    },
    {
      "cell_type": "markdown",
      "source": [
        "2. What is/are the insight(s) found from the chart?"
      ],
      "metadata": {
        "id": "xIVLa5XRcNlV"
      }
    },
    {
      "cell_type": "markdown",
      "source": [
        "*   Highest number of people killed by : Armed Assault.\n",
        "*   Higest number of people wounded by : Bombing/Explosion"
      ],
      "metadata": {
        "id": "LdS5G-sGcPGb"
      }
    },
    {
      "cell_type": "markdown",
      "source": [
        "### ***7. Target Type wise Attacks***"
      ],
      "metadata": {
        "id": "mnpp_vF4cV7k"
      }
    },
    {
      "cell_type": "markdown",
      "source": [
        "### ***a) Number of Attacks over each Target Type***"
      ],
      "metadata": {
        "id": "SLVSO6lYca99"
      }
    },
    {
      "cell_type": "code",
      "source": [
        "ta=df[\"Target Type\"].value_counts()\n",
        "ta"
      ],
      "metadata": {
        "id": "ra8Coj6Pce3t"
      },
      "execution_count": null,
      "outputs": []
    },
    {
      "cell_type": "markdown",
      "source": [
        "### Chart - 21"
      ],
      "metadata": {
        "id": "riH0KmR-cj6-"
      }
    },
    {
      "cell_type": "code",
      "source": [
        "# Chart - 21 visualization code\n",
        "ta.plot(kind=\"bar\",color=\"red\",figsize=(15,6))\n",
        "plt.title(\"Types of Targets\",fontsize=13)\n",
        "plt.xlabel(\"Target Types\",fontsize=13)\n",
        "plt.xticks(fontsize=12)\n",
        "plt.ylabel(\"Number of Attacks\",fontsize=13)\n",
        "plt.show()"
      ],
      "metadata": {
        "id": "_ixgmqXFcylk"
      },
      "execution_count": null,
      "outputs": []
    },
    {
      "cell_type": "markdown",
      "source": [
        "1. Why did you pick the specific chart?"
      ],
      "metadata": {
        "id": "fcmnBFB-c4Kj"
      }
    },
    {
      "cell_type": "markdown",
      "source": [
        "Bar charts are useful when we want to compare \"The types of Attacks\" by Terrorist Groups easily. The length of the bars provides a clear visual representation of the quantity."
      ],
      "metadata": {
        "id": "9z7OzNYsc775"
      }
    },
    {
      "cell_type": "markdown",
      "source": [
        "2. What is/are the insight(s) found from the chart?"
      ],
      "metadata": {
        "id": "YWBqhETVc9SB"
      }
    },
    {
      "cell_type": "markdown",
      "source": [
        "*   Most number of Attacts made on : Private Citizens & Property followed by Military and Police"
      ],
      "metadata": {
        "id": "EXtXX9FfdAzZ"
      }
    },
    {
      "cell_type": "markdown",
      "source": [
        "### Chart - 22"
      ],
      "metadata": {
        "id": "3u4SGo84dIh6"
      }
    },
    {
      "cell_type": "markdown",
      "source": [
        "### ***2. Total Casualties(Killed + Wounded) in each Target Type***"
      ],
      "metadata": {
        "id": "cmFThDGCdNyL"
      }
    },
    {
      "cell_type": "code",
      "source": [
        "tc=df[[\"Target Type\",\"Casualty\"]].groupby(\"Target Type\").sum().sort_values(by=\"Casualty\",ascending=False)\n",
        "tc"
      ],
      "metadata": {
        "id": "Bw70G_HhdSi7"
      },
      "execution_count": null,
      "outputs": []
    },
    {
      "cell_type": "code",
      "source": [
        "# Chart - 22 Visualization code\n",
        "tc.plot(kind=\"bar\",color=\"red\",figsize=(15,6))\n",
        "plt.title(\"Casualties in each Target Attack\",fontsize=13)\n",
        "plt.xlabel(\"Target Types\",fontsize=13)\n",
        "plt.xticks(fontsize=12)\n",
        "plt.ylabel(\"Number of Casualties\",fontsize=13)\n",
        "plt.show()"
      ],
      "metadata": {
        "id": "xTsN1mx5dXDz"
      },
      "execution_count": null,
      "outputs": []
    },
    {
      "cell_type": "markdown",
      "source": [
        "1. Why did you pick the specific chart?"
      ],
      "metadata": {
        "id": "87NonhiTddQj"
      }
    },
    {
      "cell_type": "markdown",
      "source": [
        "Bar charts are useful when we want to compare \"Total Casualties\" caused by  \"The types of Attacks\" by Terrorist Groups easily. The length of the bars provides a clear visual representation of the quantity."
      ],
      "metadata": {
        "id": "McIVduZPdeVN"
      }
    },
    {
      "cell_type": "markdown",
      "source": [
        "2. What is/are the insight(s) found from the chart?"
      ],
      "metadata": {
        "id": "m982E13JdhVK"
      }
    },
    {
      "cell_type": "markdown",
      "source": [
        "*   Most Casualties(Killed + Wounded) by Terrorists attacks are from : Private Citizens and Property followed by Military and Police."
      ],
      "metadata": {
        "id": "M2rlCf26dk67"
      }
    },
    {
      "cell_type": "markdown",
      "source": [
        "### Chart - 23"
      ],
      "metadata": {
        "id": "VXdsiqMCdtRi"
      }
    },
    {
      "cell_type": "markdown",
      "source": [
        "### ***c) Killed in each target type***"
      ],
      "metadata": {
        "id": "eRcInK2TeNfW"
      }
    },
    {
      "cell_type": "code",
      "source": [
        "tk=df[[\"Target Type\",\"Killed\"]].groupby(\"Target Type\").sum().sort_values(by=\"Killed\",ascending=False)\n",
        "tk"
      ],
      "metadata": {
        "id": "FL_-ceGieRSf"
      },
      "execution_count": null,
      "outputs": []
    },
    {
      "cell_type": "markdown",
      "source": [
        "### ***d) Wounded in each target type***"
      ],
      "metadata": {
        "id": "P5RnScfyeW1r"
      }
    },
    {
      "cell_type": "code",
      "source": [
        "tw=df[[\"Target Type\",\"Wounded\"]].groupby(\"Target Type\").sum().sort_values(by=\"Wounded\",ascending=False)\n",
        "tw"
      ],
      "metadata": {
        "id": "RStsuI4beaXV"
      },
      "execution_count": null,
      "outputs": []
    },
    {
      "cell_type": "code",
      "source": [
        "# Chart - 23 visualization code\n",
        "fig=plt.figure()\n",
        "ax0=fig.add_subplot(1,2,1)\n",
        "ax1=fig.add_subplot(1,2,2)\n",
        "\n",
        "#Killed\n",
        "tk.plot(kind=\"bar\",color=\"red\",figsize=(17,6),ax=ax0)\n",
        "ax0.set_title(\"People Killed in each Target Attack\")\n",
        "ax0.set_xlabel(\"Target Types\")\n",
        "ax0.set_ylabel(\"Number of people Killed\")\n",
        "\n",
        "#Wounded\n",
        "tw.plot(kind=\"bar\",color=\"red\",figsize=(17,6),ax=ax1)\n",
        "ax1.set_title(\"People Wounded in each Target Attack\")\n",
        "ax1.set_xlabel(\"Target Types\")\n",
        "ax1.set_ylabel(\"Number of people Wounded\")\n",
        "plt.show()"
      ],
      "metadata": {
        "id": "DLPUu37aegP0"
      },
      "execution_count": null,
      "outputs": []
    },
    {
      "cell_type": "markdown",
      "source": [
        "1. Why did you pick the specific chart?"
      ],
      "metadata": {
        "id": "HOZ-sQKUel1d"
      }
    },
    {
      "cell_type": "markdown",
      "source": [
        "Bar charts are useful when we want to compare \"Total Killed and Wounded\" caused by \"The types of Attacks\" by Terrorist Groups easily. The length of the bars provides a clear visual representation of the quantity."
      ],
      "metadata": {
        "id": "yHKkbyAZeold"
      }
    },
    {
      "cell_type": "markdown",
      "source": [
        "2. What is/are the insight(s) found from the chart?"
      ],
      "metadata": {
        "id": "cYpWGN4Aesdu"
      }
    },
    {
      "cell_type": "markdown",
      "source": [
        "*   Highest number of people Killed & Wounded are from \"Private Citizens & Property\" Target type.\n",
        "*   Least number of people Killed & Wounded are from \"Abortion Related\" Target type."
      ],
      "metadata": {
        "id": "6pxMA4SNev1r"
      }
    },
    {
      "cell_type": "markdown",
      "source": [
        "## ***8. Group + Country wise - Top10***"
      ],
      "metadata": {
        "id": "Ss6xsY0ie4M9"
      }
    },
    {
      "cell_type": "markdown",
      "source": [
        "### ***a) Sorting by number of Attacks***"
      ],
      "metadata": {
        "id": "WbGLh3IOe5mV"
      }
    },
    {
      "cell_type": "code",
      "source": [
        "gca=df[[\"Group Name\",\"Country\"]].value_counts().drop(\"Unknown\")\n",
        "top_10_countries = gca.head(10)\n",
        "top_10_countries"
      ],
      "metadata": {
        "id": "TnJhJ5X4fAlf"
      },
      "execution_count": null,
      "outputs": []
    },
    {
      "cell_type": "markdown",
      "source": [
        "### Chart - 24"
      ],
      "metadata": {
        "id": "nB2-sSRPfE3D"
      }
    },
    {
      "cell_type": "code",
      "source": [
        "# Chart - 24 visualization code.\n",
        "plt.figure(figsize=(10, 10))\n",
        "plt.pie(top_10_countries, labels=top_10_countries.index, autopct=\"%1.1f%%\", startangle=140,  colors=[\"red\", \"yellow\", \"green\", \"orange\", \"blue\", \"purple\", \"brown\", \"pink\", \"gray\", \"cyan\"])\n",
        "\n",
        "# Adding a title\n",
        "plt.title(\"Distribution of Attacks by a Particular Group in Top 10 Countries\", fontsize=13)\n",
        "\n",
        "# Display the plot\n",
        "plt.show()"
      ],
      "metadata": {
        "id": "g8NNzQh_fJR9"
      },
      "execution_count": null,
      "outputs": []
    },
    {
      "cell_type": "markdown",
      "source": [
        "1. Why did you pick the specific chart?"
      ],
      "metadata": {
        "id": "ZbmQZ2HQfQe2"
      }
    },
    {
      "cell_type": "markdown",
      "source": [
        "Pie charts are good for emphasizing dominant or significant categories. In this case, it helps to highlight the \"Distribution of Attacks by a Particular Group in Top 10 Countries\"."
      ],
      "metadata": {
        "id": "uBsg5ROWfUUP"
      }
    },
    {
      "cell_type": "markdown",
      "source": [
        "2. What is/are the insight(s) found from the chart?"
      ],
      "metadata": {
        "id": "cOhG0VcjfU_I"
      }
    },
    {
      "cell_type": "markdown",
      "source": [
        "*   Most number of attacks :\"Taliban\" in \"Afghanistan\"\n",
        "*   Least number of attacks : \"Boko Haram\" in \"Nigeria\""
      ],
      "metadata": {
        "id": "DeK0yDLmfX_F"
      }
    },
    {
      "cell_type": "markdown",
      "source": [
        "### Chart - 25"
      ],
      "metadata": {
        "id": "CCzknhDPfgL0"
      }
    },
    {
      "cell_type": "markdown",
      "source": [
        "### ***b) Sorting by Number of Casualties***"
      ],
      "metadata": {
        "id": "tBE-ZExSfvZY"
      }
    },
    {
      "cell_type": "code",
      "source": [
        "gcc=df[[\"Group Name\",\"Country\",\"Casualty\"]].groupby([\"Group Name\",\"Country\"],axis=0).sum().sort_values(by=\"Casualty\",ascending=False).drop(\"Unknown\").head(10)\n",
        "gcc"
      ],
      "metadata": {
        "id": "MHDOdW3Qfywm"
      },
      "execution_count": null,
      "outputs": []
    },
    {
      "cell_type": "code",
      "source": [
        "# Chart - 25 visualization code\n",
        "gcc.plot(kind=\"bar\",color=\"red\",figsize=(15,6))\n",
        "plt.title(\"Countries with most casualties by a particular Group\",fontsize=13)\n",
        "plt.xlabel(\"(Terrorist Group,Country)\",fontsize=13)\n",
        "plt.xticks(fontsize=12)\n",
        "plt.ylabel(\"Number of Casualties\",fontsize=13)\n",
        "plt.show()"
      ],
      "metadata": {
        "id": "xk_g4mVXf4uO"
      },
      "execution_count": null,
      "outputs": []
    },
    {
      "cell_type": "markdown",
      "source": [
        "1. Why did you pick the specific chart?"
      ],
      "metadata": {
        "id": "zNWuw7ytgBFk"
      }
    },
    {
      "cell_type": "markdown",
      "source": [
        "Bar charts are useful when we want to compare \"Countries with most casualties by a particular Group\"  easily. The length of the bars provides a clear visual representation of the quantity."
      ],
      "metadata": {
        "id": "rqCMocd3gD2w"
      }
    },
    {
      "cell_type": "markdown",
      "source": [
        "2. What is/are the insight(s) found from the chart?"
      ],
      "metadata": {
        "id": "oCoVFXRqgHJj"
      }
    },
    {
      "cell_type": "markdown",
      "source": [
        "*   Most number of casualties : 57140 by \"Taliban\" in \"Afghanistan\"\n",
        "*   Least number of casualties : 12068 by \"Farabundo Marti National Liberation Front (FMLN)\" in \"El Salvador\""
      ],
      "metadata": {
        "id": "MVcbmzoKgKrr"
      }
    },
    {
      "cell_type": "markdown",
      "source": [
        "### ***Chart - 26***"
      ],
      "metadata": {
        "id": "VyBhaJkfgO58"
      }
    },
    {
      "cell_type": "markdown",
      "source": [
        "### ***c) Sorting by number of people killed***"
      ],
      "metadata": {
        "id": "3-Z9ai7qgVOz"
      }
    },
    {
      "cell_type": "code",
      "source": [
        "gck=df[[\"Group Name\",\"Country\",\"Killed\"]].groupby([\"Group Name\",\"Country\"],axis=0).sum().sort_values(by=\"Killed\",ascending=False).drop(\"Unknown\").head(10)\n",
        "gck"
      ],
      "metadata": {
        "id": "8zT_tK0cpgx9"
      },
      "execution_count": null,
      "outputs": []
    },
    {
      "cell_type": "markdown",
      "source": [
        "### ***d) Sorting by number of people wounded***"
      ],
      "metadata": {
        "id": "DK6OOYlApqV3"
      }
    },
    {
      "cell_type": "code",
      "source": [
        "gcw=df[[\"Group Name\",\"Country\",\"Wounded\"]].groupby([\"Group Name\",\"Country\"],axis=0).sum().sort_values(by=\"Wounded\",ascending=False).drop(\"Unknown\").head(10)\n",
        "gcw"
      ],
      "metadata": {
        "id": "J11v3P-apuiH"
      },
      "execution_count": null,
      "outputs": []
    },
    {
      "cell_type": "code",
      "source": [
        "# Chart 26 Visualization code\n",
        "fig=plt.figure()\n",
        "ax0=fig.add_subplot(1,2,1)\n",
        "ax1=fig.add_subplot(1,2,2)\n",
        "\n",
        "#Killed\n",
        "gck.plot(kind=\"bar\",color=\"red\",figsize=(17,6),ax=ax0)\n",
        "ax0.set_title(\"Countries with most people killed by a particular Group\")\n",
        "ax0.set_xlabel(\"Terrorist Group, Country\")\n",
        "ax0.set_ylabel(\"Number of people Killed\")\n",
        "\n",
        "#Wounded\n",
        "gcw.plot(kind=\"bar\",color=\"red\",figsize=(17,6),ax=ax1)\n",
        "ax1.set_title(\"Countries with most people wounded by a particular group\")\n",
        "ax1.set_xlabel(\"Terrorist Group, Country\")\n",
        "ax1.set_ylabel(\"Number of people Wounded\")\n",
        "plt.show()"
      ],
      "metadata": {
        "id": "G3p29OQmpzTn"
      },
      "execution_count": null,
      "outputs": []
    },
    {
      "cell_type": "markdown",
      "source": [
        "1. Why did you pick the specific chart?"
      ],
      "metadata": {
        "id": "xnL3MxHuqEIn"
      }
    },
    {
      "cell_type": "markdown",
      "source": [
        "Bar charts are useful when we want to compare \"Countries with most Killed and Wounded by a particular Group\" easily. The length of the bars provides a clear visual representation of the quantity."
      ],
      "metadata": {
        "id": "-f7ZOoKBqHJx"
      }
    },
    {
      "cell_type": "markdown",
      "source": [
        "2. What is/are the insight(s) found from the chart?"
      ],
      "metadata": {
        "id": "wY8Sbk1eqKdk"
      }
    },
    {
      "cell_type": "markdown",
      "source": [
        "\n",
        "\n",
        "*   Most number of people killed : 31058 by \"Islamic State of Iraq and the Levant (ISIL)\" in \"Iraq\"\n",
        "*   Least number of people killed : 6014 by \"Tehrik-i-Taliban Pakistan (TTP)\" in \"Pakistan\"\n",
        "\n",
        "\n",
        "\n",
        "*   Most number of people wounded : 27871 by \"Taliban\" in \"Afghanistan\"\n",
        "*   Least number of people wounded : 4795 by \"Kurdistan Workers' Party (PKK)\" in \"Turkey\""
      ],
      "metadata": {
        "id": "XSzOM3kWqN7o"
      }
    },
    {
      "cell_type": "markdown",
      "source": [
        "## ***9. Humanity Affected (World-wide) by Terrorist Attacks from 1970 to 2017***"
      ],
      "metadata": {
        "id": "q6_vLtz5q7Ng"
      }
    },
    {
      "cell_type": "markdown",
      "source": [
        "### ***a) Total Casualties (Killed + Wounded) due to Terrorist Attacks***"
      ],
      "metadata": {
        "id": "HE8PuPufrAMR"
      }
    },
    {
      "cell_type": "code",
      "source": [
        "casualty=df.loc[:,\"Casualty\"].sum()\n",
        "print(\"Total number of Casualties due to Terrorist Attacks from 1970 to 2017 across the world :\\n\",casualty)"
      ],
      "metadata": {
        "id": "E0UbeDYIrG1Q"
      },
      "execution_count": null,
      "outputs": []
    },
    {
      "cell_type": "markdown",
      "source": [
        "### ***b) Killed due to Terrorist Attacks***"
      ],
      "metadata": {
        "id": "d_tlRCYqrKbX"
      }
    },
    {
      "cell_type": "code",
      "source": [
        "kill=df.loc[:,\"Killed\"].sum()\n",
        "print(\"Total number of people killed due to Terrorist Attacks from 1970 to 2017 across the world :\\n\",kill)"
      ],
      "metadata": {
        "id": "Ykukb2kZrLgq"
      },
      "execution_count": null,
      "outputs": []
    },
    {
      "cell_type": "markdown",
      "source": [
        "### ***c) Wounded due to Terrorist Attack***"
      ],
      "metadata": {
        "id": "Lj1R0L3Arbct"
      }
    },
    {
      "cell_type": "code",
      "source": [
        "wound=df.loc[:,\"Wounded\"].sum()\n",
        "print(\"Total number of people wounded due to Terrorist Attacks from 1970 to 2017 across the world :\\n\",wound)"
      ],
      "metadata": {
        "id": "llfkKKugriOQ"
      },
      "execution_count": null,
      "outputs": []
    },
    {
      "cell_type": "markdown",
      "source": [
        "## **5. Solution to Business Objective**"
      ],
      "metadata": {
        "id": "JcMwzZxoAimU"
      }
    },
    {
      "cell_type": "markdown",
      "source": [
        "#### What do you suggest the client to achieve Business Objective ?\n",
        "Explain Briefly."
      ],
      "metadata": {
        "id": "Lu4aDYj8rxri"
      }
    },
    {
      "cell_type": "markdown",
      "source": [
        "Based on the exploratory data analysis conducted on the Global Terrorism Dataset, there are several recommendations that could be provided to a client interested in using this information to decrease the impact of terrorism, and thereby meet the stated business objective.\n",
        "\n",
        "*   Focus on Hotspot Regions: The regions with the highest frequencies of terrorist activities should be prioritized for intervention efforts. These regions may need more robust security measures, targeted socio-economic programs to address root causes of terrorism, or more substantial international assistance.\n",
        "*   Understand Yearly Trends: Keeping track of the rise or fall of terrorist incidents over the years could help forecast potential future threats and adjust counter-terrorism strategies accordingly.\n",
        "\n",
        "*   Prioritize Major Threat Groups: Our analysis shows that certain terrorist groups are more active than others. Intelligence efforts should be concentrated on these high-impact groups to prevent future attacks.\n",
        "*   Target Most Common Attack Types: Understanding the most common types of attacks used by terrorists can help in developing preventive measures and response strategies. For instance, if bombings are the most common attack type, more resources could be directed towards bomb detection and disposal."
      ],
      "metadata": {
        "id": "y7FzDK9xr5Dw"
      }
    },
    {
      "cell_type": "markdown",
      "source": [
        "# **Conclusion**"
      ],
      "metadata": {
        "id": "gCX9965dhzqZ"
      }
    },
    {
      "cell_type": "markdown",
      "source": [
        "The Exploratory Data Analysis (EDA) conducted on the Global Terrorism Dataset provided significant insights into trends and patterns in global terrorism from 1970 through 2017. With the help of the Python libraries Pandas, Matplotlib, Seaborn, and NumPy, we were able to handle, visualize and interpret complex data related to terrorist activities.\n",
        "\n",
        "Through this analysis, we identified trends over time, regional hotspots, dominant terrorist groups, and preferred modes of attacks. All these findings are crucial for devising effective counter-terrorism strategies and interventions.\n",
        "\n",
        "The process underscored the power of data-driven decision-making. By using EDA, we were able to transform raw data into meaningful insights. For instance, understanding that certain regions are more prone to terrorist attacks or that specific terrorist groups are more active allows security agencies and policymakers to allocate resources more efficiently, thereby potentially saving lives and property.\n",
        "\n",
        "However, while this data analysis provides a robust foundation, it's important to acknowledge that addressing terrorism requires more than just understanding past data. It necessitates a comprehensive approach that includes current intelligence, geopolitical considerations, and on-the-ground realities.\n",
        "\n",
        "To conclude, this project demonstrates the potential of data analysis in informing and shaping counter-terrorism efforts. It provides a useful starting point for further study and action, emphasizing the importance of continuous data collection, analysis, and interpretation in tackling global security challenges like terrorism."
      ],
      "metadata": {
        "id": "Fjb1IsQkh3yE"
      }
    },
    {
      "cell_type": "markdown",
      "source": [
        "### ***Hurrah! You have successfully completed your EDA Capstone Project !!!***"
      ],
      "metadata": {
        "id": "gIfDvo9L0UH2"
      }
    }
  ]
}